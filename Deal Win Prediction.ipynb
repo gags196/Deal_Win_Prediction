{
 "cells": [
  {
   "cell_type": "markdown",
   "id": "e9e7202b-d220-458a-9090-8c7b7e4e349f",
   "metadata": {},
   "source": [
    "# >>>WIN Prediction Analytics<<<"
   ]
  },
  {
   "cell_type": "markdown",
   "id": "0e47c5a1-8385-47cb-a926-14d0a13aff46",
   "metadata": {},
   "source": [
    "## Project Overview:\n",
    "Develop a predictive analytics solution to estimate the probability of winning deals/projects for an IT consulting firm. By analyzing historical bidding data—including variables such as project category, price, client sector, and team composition—the model aims to provide actionable insights for optimizing resource allocation and prioritizing high-potential opportunities.\n",
    "\n",
    "## Objective:\n",
    "\n",
    "**Predictive Analytics:** Build a robust machine learning model to forecast win/loss outcomes for bidding activities.\n",
    "\n",
    "**Prescriptive Analytics:** Identify key factors influencing deal success to help improve win rates.\n",
    "\n",
    "**Optimization:** Recommend the top five SBU Head–Bid Manager combinations with the highest likelihood of success.\n",
    "\n",
    "**Financial Impact:** Quantify the potential loss associated with false predictions, aiding risk mitigation.\n",
    "\n",
    "## Relevance:\n",
    "\n",
    "**Strategic Decision-Making:** Enables management to focus efforts on deals with the highest probability of success, improving overall revenue generation.\n",
    "\n",
    "**Resource Optimization:** Assists in efficient staff allocation by prioritizing bids based on predicted outcomes.\n",
    "\n",
    "**Competitive Advantage:** Offers a data-driven approach to stay ahead in a competitive market by continuously refining bid strategies.\n",
    "\n",
    "## Market Outlook:\n",
    "\n",
    "In the competitive IT consulting space, even a slight improvement in the win rate can lead to significant revenue gains. By accurately predicting deal outcomes, firms can better target resources to maximize profitability and secure a stronger market position."
   ]
  },
  {
   "cell_type": "code",
   "execution_count": 1,
   "id": "df607177",
   "metadata": {
    "ExecuteTime": {
     "end_time": "2025-01-30T12:20:56.803174Z",
     "start_time": "2025-01-30T12:20:53.611324Z"
    }
   },
   "outputs": [],
   "source": [
    "# Import the basic packages\n",
    "import numpy as np\n",
    "import pandas as pd\n",
    "import matplotlib.pyplot as plt\n",
    "import seaborn as sns\n",
    "import sklearn\n",
    "import warnings\n",
    "warnings.filterwarnings('ignore')\n",
    "import os\n",
    "\n",
    "# import tensorflow lib\n",
    "import tensorflow as tf\n",
    "from tensorflow.keras.models import Sequential\n",
    "from tensorflow.keras.layers import Dense"
   ]
  },
  {
   "cell_type": "code",
   "execution_count": 2,
   "id": "6919420d",
   "metadata": {
    "ExecuteTime": {
     "end_time": "2025-01-30T12:21:05.920928Z",
     "start_time": "2025-01-30T12:20:56.810958Z"
    }
   },
   "outputs": [
    {
     "data": {
      "text/html": [
       "<div>\n",
       "<style scoped>\n",
       "    .dataframe tbody tr th:only-of-type {\n",
       "        vertical-align: middle;\n",
       "    }\n",
       "\n",
       "    .dataframe tbody tr th {\n",
       "        vertical-align: top;\n",
       "    }\n",
       "\n",
       "    .dataframe thead th {\n",
       "        text-align: right;\n",
       "    }\n",
       "</style>\n",
       "<table border=\"1\" class=\"dataframe\">\n",
       "  <thead>\n",
       "    <tr style=\"text-align: right;\">\n",
       "      <th></th>\n",
       "      <th>Client Category</th>\n",
       "      <th>Solution Type</th>\n",
       "      <th>Deal Date</th>\n",
       "      <th>Sector</th>\n",
       "      <th>Location</th>\n",
       "      <th>VP Name</th>\n",
       "      <th>Manager Name</th>\n",
       "      <th>Deal Cost</th>\n",
       "      <th>Deal Status Code</th>\n",
       "    </tr>\n",
       "  </thead>\n",
       "  <tbody>\n",
       "    <tr>\n",
       "      <th>0</th>\n",
       "      <td>Telecom</td>\n",
       "      <td>Solution 7</td>\n",
       "      <td>2012-03-27</td>\n",
       "      <td>Sector 24</td>\n",
       "      <td>L5</td>\n",
       "      <td>Ekta Zutshi</td>\n",
       "      <td>Gopa Trilochana</td>\n",
       "      <td>150000.00</td>\n",
       "      <td>Won</td>\n",
       "    </tr>\n",
       "    <tr>\n",
       "      <th>1</th>\n",
       "      <td>Telecom</td>\n",
       "      <td>Solution 7</td>\n",
       "      <td>2012-09-25</td>\n",
       "      <td>Sector 24</td>\n",
       "      <td>L5</td>\n",
       "      <td>Ekta Zutshi</td>\n",
       "      <td>Gopa Trilochana</td>\n",
       "      <td>744705.88</td>\n",
       "      <td>Won</td>\n",
       "    </tr>\n",
       "    <tr>\n",
       "      <th>2</th>\n",
       "      <td>Internal</td>\n",
       "      <td>Solution 59</td>\n",
       "      <td>2011-08-01</td>\n",
       "      <td>Sector 20</td>\n",
       "      <td>Others</td>\n",
       "      <td>Ekta Zutshi</td>\n",
       "      <td>Russell Dahlen</td>\n",
       "      <td>60000.00</td>\n",
       "      <td>Lost</td>\n",
       "    </tr>\n",
       "    <tr>\n",
       "      <th>3</th>\n",
       "      <td>Internal</td>\n",
       "      <td>Solution 59</td>\n",
       "      <td>2011-04-28</td>\n",
       "      <td>Sector 20</td>\n",
       "      <td>Others</td>\n",
       "      <td>Ekta Zutshi</td>\n",
       "      <td>Russell Dahlen</td>\n",
       "      <td>60000.00</td>\n",
       "      <td>Lost</td>\n",
       "    </tr>\n",
       "    <tr>\n",
       "      <th>4</th>\n",
       "      <td>Internal</td>\n",
       "      <td>Solution 32</td>\n",
       "      <td>2011-06-03</td>\n",
       "      <td>Sector 20</td>\n",
       "      <td>Others</td>\n",
       "      <td>Ekta Zutshi</td>\n",
       "      <td>Russell Dahlen</td>\n",
       "      <td>80882.35</td>\n",
       "      <td>Lost</td>\n",
       "    </tr>\n",
       "    <tr>\n",
       "      <th>5</th>\n",
       "      <td>Internal</td>\n",
       "      <td>Solution 32</td>\n",
       "      <td>2011-05-24</td>\n",
       "      <td>Sector 20</td>\n",
       "      <td>Others</td>\n",
       "      <td>Ekta Zutshi</td>\n",
       "      <td>Russell Dahlen</td>\n",
       "      <td>80882.35</td>\n",
       "      <td>Lost</td>\n",
       "    </tr>\n",
       "    <tr>\n",
       "      <th>6</th>\n",
       "      <td>Internal</td>\n",
       "      <td>Solution 59</td>\n",
       "      <td>2011-11-03</td>\n",
       "      <td>Sector 2</td>\n",
       "      <td>L10</td>\n",
       "      <td>Mervin Harwood</td>\n",
       "      <td>rahul sharma</td>\n",
       "      <td>526176.47</td>\n",
       "      <td>Won</td>\n",
       "    </tr>\n",
       "    <tr>\n",
       "      <th>7</th>\n",
       "      <td>Govt</td>\n",
       "      <td>Solution 7</td>\n",
       "      <td>2012-09-17</td>\n",
       "      <td>Sector 13</td>\n",
       "      <td>L5</td>\n",
       "      <td>Sargar Deep Rao</td>\n",
       "      <td>Vidur Hukle</td>\n",
       "      <td>409705.88</td>\n",
       "      <td>Lost</td>\n",
       "    </tr>\n",
       "    <tr>\n",
       "      <th>8</th>\n",
       "      <td>Consumer Good</td>\n",
       "      <td>Solution 42</td>\n",
       "      <td>2012-04-11</td>\n",
       "      <td>Sector 12</td>\n",
       "      <td>L10</td>\n",
       "      <td>Lilli Storrs</td>\n",
       "      <td>Md. Daud</td>\n",
       "      <td>1032352.94</td>\n",
       "      <td>Won</td>\n",
       "    </tr>\n",
       "    <tr>\n",
       "      <th>9</th>\n",
       "      <td>Internal</td>\n",
       "      <td>Solution 59</td>\n",
       "      <td>2011-11-17</td>\n",
       "      <td>Sector 20</td>\n",
       "      <td>Others</td>\n",
       "      <td>Sargar Deep Rao</td>\n",
       "      <td>Hardeep Suksma</td>\n",
       "      <td>558823.53</td>\n",
       "      <td>Lost</td>\n",
       "    </tr>\n",
       "  </tbody>\n",
       "</table>\n",
       "</div>"
      ],
      "text/plain": [
       "  Client Category Solution Type  Deal Date     Sector Location  \\\n",
       "0         Telecom    Solution 7 2012-03-27  Sector 24       L5   \n",
       "1         Telecom    Solution 7 2012-09-25  Sector 24       L5   \n",
       "2        Internal   Solution 59 2011-08-01  Sector 20   Others   \n",
       "3        Internal   Solution 59 2011-04-28  Sector 20   Others   \n",
       "4        Internal   Solution 32 2011-06-03  Sector 20   Others   \n",
       "5        Internal   Solution 32 2011-05-24  Sector 20   Others   \n",
       "6        Internal   Solution 59 2011-11-03   Sector 2      L10   \n",
       "7            Govt    Solution 7 2012-09-17  Sector 13       L5   \n",
       "8   Consumer Good   Solution 42 2012-04-11  Sector 12      L10   \n",
       "9        Internal   Solution 59 2011-11-17  Sector 20   Others   \n",
       "\n",
       "           VP Name     Manager Name   Deal Cost Deal Status Code  \n",
       "0      Ekta Zutshi  Gopa Trilochana   150000.00              Won  \n",
       "1      Ekta Zutshi  Gopa Trilochana   744705.88              Won  \n",
       "2      Ekta Zutshi   Russell Dahlen    60000.00             Lost  \n",
       "3      Ekta Zutshi   Russell Dahlen    60000.00             Lost  \n",
       "4      Ekta Zutshi   Russell Dahlen    80882.35             Lost  \n",
       "5      Ekta Zutshi   Russell Dahlen    80882.35             Lost  \n",
       "6   Mervin Harwood     rahul sharma   526176.47              Won  \n",
       "7  Sargar Deep Rao      Vidur Hukle   409705.88             Lost  \n",
       "8     Lilli Storrs         Md. Daud  1032352.94              Won  \n",
       "9  Sargar Deep Rao   Hardeep Suksma   558823.53             Lost  "
      ]
     },
     "execution_count": 2,
     "metadata": {},
     "output_type": "execute_result"
    }
   ],
   "source": [
    "# import the dataset\n",
    "mydata = pd.read_excel('Win_Prediction_Data.xlsx')\n",
    "mydata.head(10)"
   ]
  },
  {
   "cell_type": "code",
   "execution_count": 3,
   "id": "7cb0528c",
   "metadata": {
    "ExecuteTime": {
     "end_time": "2025-01-30T12:21:06.037579Z",
     "start_time": "2025-01-30T12:21:05.942082Z"
    }
   },
   "outputs": [
    {
     "data": {
      "text/html": [
       "<div>\n",
       "<style scoped>\n",
       "    .dataframe tbody tr th:only-of-type {\n",
       "        vertical-align: middle;\n",
       "    }\n",
       "\n",
       "    .dataframe tbody tr th {\n",
       "        vertical-align: top;\n",
       "    }\n",
       "\n",
       "    .dataframe thead th {\n",
       "        text-align: right;\n",
       "    }\n",
       "</style>\n",
       "<table border=\"1\" class=\"dataframe\">\n",
       "  <thead>\n",
       "    <tr style=\"text-align: right;\">\n",
       "      <th></th>\n",
       "      <th>Client Category</th>\n",
       "      <th>Solution Type</th>\n",
       "      <th>Deal Date</th>\n",
       "      <th>Sector</th>\n",
       "      <th>Location</th>\n",
       "      <th>VP Name</th>\n",
       "      <th>Manager Name</th>\n",
       "      <th>Deal Cost</th>\n",
       "      <th>Deal Status Code</th>\n",
       "    </tr>\n",
       "  </thead>\n",
       "  <tbody>\n",
       "    <tr>\n",
       "      <th>0</th>\n",
       "      <td>Telecom</td>\n",
       "      <td>Solution 7</td>\n",
       "      <td>2012-03-27</td>\n",
       "      <td>Sector 24</td>\n",
       "      <td>L5</td>\n",
       "      <td>Ekta Zutshi</td>\n",
       "      <td>Gopa Trilochana</td>\n",
       "      <td>150000.00</td>\n",
       "      <td>Won</td>\n",
       "    </tr>\n",
       "    <tr>\n",
       "      <th>1</th>\n",
       "      <td>Telecom</td>\n",
       "      <td>Solution 7</td>\n",
       "      <td>2012-09-25</td>\n",
       "      <td>Sector 24</td>\n",
       "      <td>L5</td>\n",
       "      <td>Ekta Zutshi</td>\n",
       "      <td>Gopa Trilochana</td>\n",
       "      <td>744705.88</td>\n",
       "      <td>Won</td>\n",
       "    </tr>\n",
       "    <tr>\n",
       "      <th>2</th>\n",
       "      <td>Internal</td>\n",
       "      <td>Solution 59</td>\n",
       "      <td>2011-08-01</td>\n",
       "      <td>Sector 20</td>\n",
       "      <td>Others</td>\n",
       "      <td>Ekta Zutshi</td>\n",
       "      <td>Russell Dahlen</td>\n",
       "      <td>60000.00</td>\n",
       "      <td>Lost</td>\n",
       "    </tr>\n",
       "    <tr>\n",
       "      <th>3</th>\n",
       "      <td>Internal</td>\n",
       "      <td>Solution 59</td>\n",
       "      <td>2011-04-28</td>\n",
       "      <td>Sector 20</td>\n",
       "      <td>Others</td>\n",
       "      <td>Ekta Zutshi</td>\n",
       "      <td>Russell Dahlen</td>\n",
       "      <td>60000.00</td>\n",
       "      <td>Lost</td>\n",
       "    </tr>\n",
       "    <tr>\n",
       "      <th>4</th>\n",
       "      <td>Internal</td>\n",
       "      <td>Solution 32</td>\n",
       "      <td>2011-06-03</td>\n",
       "      <td>Sector 20</td>\n",
       "      <td>Others</td>\n",
       "      <td>Ekta Zutshi</td>\n",
       "      <td>Russell Dahlen</td>\n",
       "      <td>80882.35</td>\n",
       "      <td>Lost</td>\n",
       "    </tr>\n",
       "    <tr>\n",
       "      <th>5</th>\n",
       "      <td>Internal</td>\n",
       "      <td>Solution 32</td>\n",
       "      <td>2011-05-24</td>\n",
       "      <td>Sector 20</td>\n",
       "      <td>Others</td>\n",
       "      <td>Ekta Zutshi</td>\n",
       "      <td>Russell Dahlen</td>\n",
       "      <td>80882.35</td>\n",
       "      <td>Lost</td>\n",
       "    </tr>\n",
       "    <tr>\n",
       "      <th>6</th>\n",
       "      <td>Internal</td>\n",
       "      <td>Solution 59</td>\n",
       "      <td>2011-11-03</td>\n",
       "      <td>Sector 2</td>\n",
       "      <td>L10</td>\n",
       "      <td>Mervin Harwood</td>\n",
       "      <td>rahul sharma</td>\n",
       "      <td>526176.47</td>\n",
       "      <td>Won</td>\n",
       "    </tr>\n",
       "    <tr>\n",
       "      <th>7</th>\n",
       "      <td>Govt</td>\n",
       "      <td>Solution 7</td>\n",
       "      <td>2012-09-17</td>\n",
       "      <td>Sector 13</td>\n",
       "      <td>L5</td>\n",
       "      <td>Sargar Deep Rao</td>\n",
       "      <td>Vidur Hukle</td>\n",
       "      <td>409705.88</td>\n",
       "      <td>Lost</td>\n",
       "    </tr>\n",
       "    <tr>\n",
       "      <th>8</th>\n",
       "      <td>Consumer Good</td>\n",
       "      <td>Solution 42</td>\n",
       "      <td>2012-04-11</td>\n",
       "      <td>Sector 12</td>\n",
       "      <td>L10</td>\n",
       "      <td>Lilli Storrs</td>\n",
       "      <td>Md. Daud</td>\n",
       "      <td>1032352.94</td>\n",
       "      <td>Won</td>\n",
       "    </tr>\n",
       "    <tr>\n",
       "      <th>9</th>\n",
       "      <td>Internal</td>\n",
       "      <td>Solution 59</td>\n",
       "      <td>2011-11-17</td>\n",
       "      <td>Sector 20</td>\n",
       "      <td>Others</td>\n",
       "      <td>Sargar Deep Rao</td>\n",
       "      <td>Hardeep Suksma</td>\n",
       "      <td>558823.53</td>\n",
       "      <td>Lost</td>\n",
       "    </tr>\n",
       "  </tbody>\n",
       "</table>\n",
       "</div>"
      ],
      "text/plain": [
       "  Client Category Solution Type  Deal Date     Sector Location  \\\n",
       "0         Telecom    Solution 7 2012-03-27  Sector 24       L5   \n",
       "1         Telecom    Solution 7 2012-09-25  Sector 24       L5   \n",
       "2        Internal   Solution 59 2011-08-01  Sector 20   Others   \n",
       "3        Internal   Solution 59 2011-04-28  Sector 20   Others   \n",
       "4        Internal   Solution 32 2011-06-03  Sector 20   Others   \n",
       "5        Internal   Solution 32 2011-05-24  Sector 20   Others   \n",
       "6        Internal   Solution 59 2011-11-03   Sector 2      L10   \n",
       "7            Govt    Solution 7 2012-09-17  Sector 13       L5   \n",
       "8   Consumer Good   Solution 42 2012-04-11  Sector 12      L10   \n",
       "9        Internal   Solution 59 2011-11-17  Sector 20   Others   \n",
       "\n",
       "           VP Name     Manager Name   Deal Cost Deal Status Code  \n",
       "0      Ekta Zutshi  Gopa Trilochana   150000.00              Won  \n",
       "1      Ekta Zutshi  Gopa Trilochana   744705.88              Won  \n",
       "2      Ekta Zutshi   Russell Dahlen    60000.00             Lost  \n",
       "3      Ekta Zutshi   Russell Dahlen    60000.00             Lost  \n",
       "4      Ekta Zutshi   Russell Dahlen    80882.35             Lost  \n",
       "5      Ekta Zutshi   Russell Dahlen    80882.35             Lost  \n",
       "6   Mervin Harwood     rahul sharma   526176.47              Won  \n",
       "7  Sargar Deep Rao      Vidur Hukle   409705.88             Lost  \n",
       "8     Lilli Storrs         Md. Daud  1032352.94              Won  \n",
       "9  Sargar Deep Rao   Hardeep Suksma   558823.53             Lost  "
      ]
     },
     "execution_count": 3,
     "metadata": {},
     "output_type": "execute_result"
    }
   ],
   "source": [
    "newdata = mydata.copy(deep=True)\n",
    "newdata.head(10)"
   ]
  },
  {
   "cell_type": "code",
   "execution_count": 4,
   "id": "48266e13",
   "metadata": {
    "ExecuteTime": {
     "end_time": "2025-01-30T12:21:06.078397Z",
     "start_time": "2025-01-30T12:21:06.041557Z"
    }
   },
   "outputs": [
    {
     "data": {
      "text/plain": [
       "Client Category     79\n",
       "Solution Type        0\n",
       "Deal Date            0\n",
       "Sector               0\n",
       "Location             0\n",
       "VP Name              0\n",
       "Manager Name         0\n",
       "Deal Cost            0\n",
       "Deal Status Code     0\n",
       "dtype: int64"
      ]
     },
     "execution_count": 4,
     "metadata": {},
     "output_type": "execute_result"
    }
   ],
   "source": [
    "# missing data\n",
    "newdata.isnull().sum()"
   ]
  },
  {
   "cell_type": "code",
   "execution_count": 5,
   "id": "f6b52b88",
   "metadata": {
    "ExecuteTime": {
     "end_time": "2025-01-30T12:21:06.127367Z",
     "start_time": "2025-01-30T12:21:06.089617Z"
    }
   },
   "outputs": [
    {
     "data": {
      "text/plain": [
       "Client Category     0.78521\n",
       "Solution Type       0.00000\n",
       "Deal Date           0.00000\n",
       "Sector              0.00000\n",
       "Location            0.00000\n",
       "VP Name             0.00000\n",
       "Manager Name        0.00000\n",
       "Deal Cost           0.00000\n",
       "Deal Status Code    0.00000\n",
       "dtype: float64"
      ]
     },
     "execution_count": 5,
     "metadata": {},
     "output_type": "execute_result"
    }
   ],
   "source": [
    "(newdata.isnull().sum() / len(newdata))*100"
   ]
  },
  {
   "cell_type": "code",
   "execution_count": 6,
   "id": "1336a863",
   "metadata": {
    "ExecuteTime": {
     "end_time": "2025-01-30T12:21:07.090500Z",
     "start_time": "2025-01-30T12:21:06.127367Z"
    }
   },
   "outputs": [
    {
     "data": {
      "image/png": "[encoded data removed]",
      "text/plain": [
       "<Figure size 640x480 with 1 Axes>"
      ]
     },
     "metadata": {},
     "output_type": "display_data"
    }
   ],
   "source": [
    "sns.heatmap(newdata.isnull(), yticklabels = False, cbar=False, cmap='rainbow')\n",
    "plt.show()"
   ]
  },
  {
   "cell_type": "code",
   "execution_count": 7,
   "id": "14b408fa",
   "metadata": {
    "ExecuteTime": {
     "end_time": "2025-01-30T12:21:07.181222Z",
     "start_time": "2025-01-30T12:21:07.106581Z"
    }
   },
   "outputs": [
    {
     "name": "stdout",
     "output_type": "stream",
     "text": [
      "<class 'pandas.core.frame.DataFrame'>\n",
      "RangeIndex: 10061 entries, 0 to 10060\n",
      "Data columns (total 9 columns):\n",
      " #   Column            Non-Null Count  Dtype         \n",
      "---  ------            --------------  -----         \n",
      " 0   Client Category   9982 non-null   object        \n",
      " 1   Solution Type     10061 non-null  object        \n",
      " 2   Deal Date         10061 non-null  datetime64[ns]\n",
      " 3   Sector            10061 non-null  object        \n",
      " 4   Location          10061 non-null  object        \n",
      " 5   VP Name           10061 non-null  object        \n",
      " 6   Manager Name      10061 non-null  object        \n",
      " 7   Deal Cost         10061 non-null  float64       \n",
      " 8   Deal Status Code  10061 non-null  object        \n",
      "dtypes: datetime64[ns](1), float64(1), object(7)\n",
      "memory usage: 707.5+ KB\n"
     ]
    }
   ],
   "source": [
    "newdata.info()"
   ]
  },
  {
   "cell_type": "code",
   "execution_count": 8,
   "id": "e5a2c497",
   "metadata": {
    "ExecuteTime": {
     "end_time": "2025-01-30T12:21:07.226478Z",
     "start_time": "2025-01-30T12:21:07.196930Z"
    }
   },
   "outputs": [],
   "source": [
    "# handling missing value\n",
    "Client_Category = newdata['Client Category'].value_counts()"
   ]
  },
  {
   "cell_type": "code",
   "execution_count": 9,
   "id": "763f08ab",
   "metadata": {
    "ExecuteTime": {
     "end_time": "2025-01-30T12:21:07.267979Z",
     "start_time": "2025-01-30T12:21:07.236424Z"
    }
   },
   "outputs": [
    {
     "data": {
      "text/plain": [
       "Client Category\n",
       "Others                   1763\n",
       "Internal                 1454\n",
       "Services_based           1202\n",
       "Tech                      913\n",
       "Domestic Public Bank      419\n",
       "International Bank        376\n",
       "Consulting                352\n",
       "Finance                   339\n",
       "Telecom                   327\n",
       "Power ind                 264\n",
       "Domestic Private Bank     262\n",
       "Insurance                 247\n",
       "Consumer Good             185\n",
       "Automobiles               178\n",
       "Infrastructure            152\n",
       "Domestic Bank             134\n",
       "Retail_market             126\n",
       "Govt                      121\n",
       "Hospitality               119\n",
       "Manufacturing             117\n",
       "Pharma                    110\n",
       "Healthcare                 99\n",
       "Electronics                81\n",
       "Media_Journal              71\n",
       "Industries                 66\n",
       "Research Development       63\n",
       "Energy                     57\n",
       "Knowledge                  50\n",
       "Management                 43\n",
       "Govt Bank Special          41\n",
       "Payment                    40\n",
       "Energy                     37\n",
       "e-commerce                 32\n",
       "Airpline                   27\n",
       "Holding                    25\n",
       "International Org          25\n",
       "Logistics                  20\n",
       "Real Estate                19\n",
       "Share_market               14\n",
       "Tax_audit                   7\n",
       "Medical                     5\n",
       "Name: count, dtype: int64"
      ]
     },
     "execution_count": 9,
     "metadata": {},
     "output_type": "execute_result"
    }
   ],
   "source": [
    "Client_Category"
   ]
  },
  {
   "cell_type": "code",
   "execution_count": 10,
   "id": "651e0b16",
   "metadata": {
    "ExecuteTime": {
     "end_time": "2025-01-30T12:21:07.296753Z",
     "start_time": "2025-01-30T12:21:07.278550Z"
    }
   },
   "outputs": [],
   "source": [
    "newdata['Client Category'] = newdata['Client Category'].fillna('Others')"
   ]
  },
  {
   "cell_type": "code",
   "execution_count": 11,
   "id": "72b3b1ed",
   "metadata": {
    "ExecuteTime": {
     "end_time": "2025-01-30T12:21:08.108159Z",
     "start_time": "2025-01-30T12:21:07.303730Z"
    }
   },
   "outputs": [
    {
     "data": {
      "image/png": "[encoded data removed]",
      "text/plain": [
       "<Figure size 640x480 with 1 Axes>"
      ]
     },
     "metadata": {},
     "output_type": "display_data"
    }
   ],
   "source": [
    "sns.heatmap(newdata.isnull(), yticklabels = False, cbar=False, cmap='rainbow')\n",
    "plt.show()"
   ]
  },
  {
   "cell_type": "code",
   "execution_count": 12,
   "id": "b720cf10",
   "metadata": {
    "ExecuteTime": {
     "end_time": "2025-01-30T12:21:08.171484Z",
     "start_time": "2025-01-30T12:21:08.108159Z"
    }
   },
   "outputs": [
    {
     "name": "stdout",
     "output_type": "stream",
     "text": [
      "<class 'pandas.core.frame.DataFrame'>\n",
      "RangeIndex: 10061 entries, 0 to 10060\n",
      "Data columns (total 9 columns):\n",
      " #   Column            Non-Null Count  Dtype         \n",
      "---  ------            --------------  -----         \n",
      " 0   Client Category   10061 non-null  object        \n",
      " 1   Solution Type     10061 non-null  object        \n",
      " 2   Deal Date         10061 non-null  datetime64[ns]\n",
      " 3   Sector            10061 non-null  object        \n",
      " 4   Location          10061 non-null  object        \n",
      " 5   VP Name           10061 non-null  object        \n",
      " 6   Manager Name      10061 non-null  object        \n",
      " 7   Deal Cost         10061 non-null  float64       \n",
      " 8   Deal Status Code  10061 non-null  object        \n",
      "dtypes: datetime64[ns](1), float64(1), object(7)\n",
      "memory usage: 707.5+ KB\n"
     ]
    }
   ],
   "source": [
    "newdata.info()"
   ]
  },
  {
   "cell_type": "code",
   "execution_count": 13,
   "id": "b5286085",
   "metadata": {
    "ExecuteTime": {
     "end_time": "2025-01-30T12:21:08.301941Z",
     "start_time": "2025-01-30T12:21:08.180681Z"
    }
   },
   "outputs": [
    {
     "data": {
      "text/html": [
       "<div>\n",
       "<style scoped>\n",
       "    .dataframe tbody tr th:only-of-type {\n",
       "        vertical-align: middle;\n",
       "    }\n",
       "\n",
       "    .dataframe tbody tr th {\n",
       "        vertical-align: top;\n",
       "    }\n",
       "\n",
       "    .dataframe thead th {\n",
       "        text-align: right;\n",
       "    }\n",
       "</style>\n",
       "<table border=\"1\" class=\"dataframe\">\n",
       "  <thead>\n",
       "    <tr style=\"text-align: right;\">\n",
       "      <th></th>\n",
       "      <th>Client Category</th>\n",
       "      <th>Solution Type</th>\n",
       "      <th>Sector</th>\n",
       "      <th>Location</th>\n",
       "      <th>VP Name</th>\n",
       "      <th>Manager Name</th>\n",
       "      <th>Deal Status Code</th>\n",
       "    </tr>\n",
       "  </thead>\n",
       "  <tbody>\n",
       "    <tr>\n",
       "      <th>count</th>\n",
       "      <td>10061</td>\n",
       "      <td>10061</td>\n",
       "      <td>10061</td>\n",
       "      <td>10061</td>\n",
       "      <td>10061</td>\n",
       "      <td>10061</td>\n",
       "      <td>10061</td>\n",
       "    </tr>\n",
       "    <tr>\n",
       "      <th>unique</th>\n",
       "      <td>41</td>\n",
       "      <td>67</td>\n",
       "      <td>25</td>\n",
       "      <td>13</td>\n",
       "      <td>43</td>\n",
       "      <td>278</td>\n",
       "      <td>2</td>\n",
       "    </tr>\n",
       "    <tr>\n",
       "      <th>top</th>\n",
       "      <td>Others</td>\n",
       "      <td>Solution 32</td>\n",
       "      <td>Sector 23</td>\n",
       "      <td>L10</td>\n",
       "      <td>Mervin Harwood</td>\n",
       "      <td>Molly Eakes</td>\n",
       "      <td>Lost</td>\n",
       "    </tr>\n",
       "    <tr>\n",
       "      <th>freq</th>\n",
       "      <td>1842</td>\n",
       "      <td>1439</td>\n",
       "      <td>2693</td>\n",
       "      <td>3360</td>\n",
       "      <td>1166</td>\n",
       "      <td>323</td>\n",
       "      <td>6306</td>\n",
       "    </tr>\n",
       "  </tbody>\n",
       "</table>\n",
       "</div>"
      ],
      "text/plain": [
       "       Client Category Solution Type     Sector Location         VP Name  \\\n",
       "count            10061         10061      10061    10061           10061   \n",
       "unique              41            67         25       13              43   \n",
       "top             Others   Solution 32  Sector 23      L10  Mervin Harwood   \n",
       "freq              1842          1439       2693     3360            1166   \n",
       "\n",
       "       Manager Name Deal Status Code  \n",
       "count         10061            10061  \n",
       "unique          278                2  \n",
       "top     Molly Eakes             Lost  \n",
       "freq            323             6306  "
      ]
     },
     "execution_count": 13,
     "metadata": {},
     "output_type": "execute_result"
    }
   ],
   "source": [
    "# Describe the object data type \n",
    "sumcat = newdata.describe(include='O')\n",
    "sumcat"
   ]
  },
  {
   "cell_type": "code",
   "execution_count": 14,
   "id": "281caeff",
   "metadata": {
    "ExecuteTime": {
     "end_time": "2025-01-30T12:21:08.383904Z",
     "start_time": "2025-01-30T12:21:08.337610Z"
    }
   },
   "outputs": [
    {
     "data": {
      "text/plain": [
       "Deal Status Code\n",
       "Lost    6306\n",
       "Won     3755\n",
       "Name: count, dtype: int64"
      ]
     },
     "execution_count": 14,
     "metadata": {},
     "output_type": "execute_result"
    }
   ],
   "source": [
    "newdata['Deal Status Code'].value_counts()"
   ]
  },
  {
   "cell_type": "code",
   "execution_count": 15,
   "id": "86f1fd95",
   "metadata": {
    "ExecuteTime": {
     "end_time": "2025-01-30T12:21:08.436630Z",
     "start_time": "2025-01-30T12:21:08.404696Z"
    }
   },
   "outputs": [],
   "source": [
    "Client_Category_index = newdata['Client Category'].value_counts().index"
   ]
  },
  {
   "cell_type": "code",
   "execution_count": 16,
   "id": "d890c3ee",
   "metadata": {
    "ExecuteTime": {
     "end_time": "2025-01-30T12:21:08.484077Z",
     "start_time": "2025-01-30T12:21:08.447676Z"
    }
   },
   "outputs": [
    {
     "data": {
      "text/plain": [
       "Index(['Others', 'Internal', 'Services_based', 'Tech', 'Domestic Public Bank',\n",
       "       'International Bank', 'Consulting', 'Finance', 'Telecom', 'Power ind',\n",
       "       'Domestic Private Bank', 'Insurance', 'Consumer Good', 'Automobiles',\n",
       "       'Infrastructure', 'Domestic Bank', 'Retail_market', 'Govt',\n",
       "       'Hospitality', 'Manufacturing', 'Pharma', 'Healthcare', 'Electronics',\n",
       "       'Media_Journal', 'Industries', 'Research Development', 'Energy',\n",
       "       'Knowledge', 'Management', 'Govt Bank Special', 'Payment', 'Energy ',\n",
       "       'e-commerce', 'Airpline', 'Holding', 'International Org', 'Logistics',\n",
       "       'Real Estate', 'Share_market', 'Tax_audit', 'Medical '],\n",
       "      dtype='object', name='Client Category')"
      ]
     },
     "execution_count": 16,
     "metadata": {},
     "output_type": "execute_result"
    }
   ],
   "source": [
    "Client_Category_index"
   ]
  },
  {
   "cell_type": "code",
   "execution_count": 17,
   "id": "fb23bd64",
   "metadata": {
    "ExecuteTime": {
     "end_time": "2025-01-30T12:21:08.833740Z",
     "start_time": "2025-01-30T12:21:08.495057Z"
    }
   },
   "outputs": [
    {
     "data": {
      "image/png": "[encoded data removed]",
      "text/plain": [
       "<Figure size 640x480 with 1 Axes>"
      ]
     },
     "metadata": {},
     "output_type": "display_data"
    }
   ],
   "source": [
    "plt.pie(Client_Category[:5], labels=Client_Category_index[:5], autopct = '%1.2f%%')\n",
    "plt.show()"
   ]
  },
  {
   "cell_type": "code",
   "execution_count": 18,
   "id": "46132a26",
   "metadata": {
    "ExecuteTime": {
     "end_time": "2025-01-30T12:21:09.891489Z",
     "start_time": "2025-01-30T12:21:08.833740Z"
    }
   },
   "outputs": [
    {
     "data": {
      "text/plain": [
       "<Axes: ylabel='Client Category'>"
      ]
     },
     "execution_count": 18,
     "metadata": {},
     "output_type": "execute_result"
    },
    {
     "data": {
      "image/png": "[encoded data removed]",
      "text/plain": [
       "<Figure size 640x480 with 1 Axes>"
      ]
     },
     "metadata": {},
     "output_type": "display_data"
    }
   ],
   "source": [
    "Client_Category[:10].plot(kind='barh')"
   ]
  },
  {
   "cell_type": "code",
   "execution_count": 19,
   "id": "04fa7018",
   "metadata": {
    "ExecuteTime": {
     "end_time": "2025-01-30T12:21:09.918362Z",
     "start_time": "2025-01-30T12:21:09.893246Z"
    }
   },
   "outputs": [],
   "source": [
    "VP_Name_index = newdata['VP Name'].value_counts().index"
   ]
  },
  {
   "cell_type": "code",
   "execution_count": 20,
   "id": "64f17207",
   "metadata": {
    "ExecuteTime": {
     "end_time": "2025-01-30T12:21:09.961816Z",
     "start_time": "2025-01-30T12:21:09.924976Z"
    }
   },
   "outputs": [
    {
     "data": {
      "text/plain": [
       "Index(['Mervin Harwood', 'Ankita Aggarwal', 'Sargar Deep Rao',\n",
       "       'Long Bergstrom', 'Mangesh K. Singh', 'Rosanna Maynez', 'Ekta Zutshi',\n",
       "       'Rahul Bajpai', 'neeraj kumar', 'Son Mcconnaughy', 'som dutt',\n",
       "       'Hardeep Suksma', 'Brendon Wycoff', 'Clinton Mani', 'Saurabh Singh',\n",
       "       'Jewell Tunstall', 'Rudraksh Sharma', 'Gopa Trilochana',\n",
       "       'Russell Dahlen', 'Molly Eakes', 'Alam Syed', 'Gaurav Sameria',\n",
       "       'Varsha Arora', 'Gayle Molter', 'Vidur Hukle', 'Earline Langton',\n",
       "       'Manpreet Singh', 'Mayank Mewar', 'Marcella Mo', 'Rahul Kocher',\n",
       "       'Man Suddeth', 'Jitendra Choudhary', 'Prashant Rawat', 'Lilli Storrs',\n",
       "       'Vikram Rawat', 'Kamelesh Srinivasan', 'Dennis Faux', 'Visvajeet Das',\n",
       "       'Waylon Mulder', 'P. Somya', 'Kirk Hofmeister', 'Sarthak Batra',\n",
       "       'md. afsar'],\n",
       "      dtype='object', name='VP Name')"
      ]
     },
     "execution_count": 20,
     "metadata": {},
     "output_type": "execute_result"
    }
   ],
   "source": [
    "VP_Name_index"
   ]
  },
  {
   "cell_type": "code",
   "execution_count": 21,
   "id": "242e9f96",
   "metadata": {
    "ExecuteTime": {
     "end_time": "2025-01-30T12:21:10.017186Z",
     "start_time": "2025-01-30T12:21:09.979399Z"
    }
   },
   "outputs": [
    {
     "data": {
      "text/plain": [
       "VP Name\n",
       "Mervin Harwood         1166\n",
       "Ankita Aggarwal        1143\n",
       "Sargar Deep Rao         956\n",
       "Long Bergstrom          921\n",
       "Mangesh K. Singh        812\n",
       "Rosanna Maynez          662\n",
       "Ekta Zutshi             550\n",
       "Rahul Bajpai            523\n",
       "neeraj kumar            471\n",
       "Son Mcconnaughy         232\n",
       "som dutt                220\n",
       "Hardeep Suksma          208\n",
       "Brendon Wycoff          189\n",
       "Clinton Mani            184\n",
       "Saurabh Singh           176\n",
       "Jewell Tunstall         156\n",
       "Rudraksh Sharma         147\n",
       "Gopa Trilochana         136\n",
       "Russell Dahlen          133\n",
       "Molly Eakes             126\n",
       "Alam Syed               126\n",
       "Gaurav Sameria          114\n",
       "Varsha Arora            104\n",
       "Gayle Molter            104\n",
       "Vidur Hukle             100\n",
       "Earline Langton          82\n",
       "Manpreet Singh           46\n",
       "Mayank Mewar             41\n",
       "Marcella Mo              32\n",
       "Rahul Kocher             32\n",
       "Man Suddeth              29\n",
       "Jitendra Choudhary       28\n",
       "Prashant Rawat           27\n",
       "Lilli Storrs             26\n",
       "Vikram Rawat             17\n",
       "Kamelesh Srinivasan      15\n",
       "Dennis Faux              13\n",
       "Visvajeet Das             3\n",
       "Waylon Mulder             3\n",
       "P. Somya                  2\n",
       "Kirk Hofmeister           2\n",
       "Sarthak Batra             2\n",
       "md. afsar                 2\n",
       "Name: count, dtype: int64"
      ]
     },
     "execution_count": 21,
     "metadata": {},
     "output_type": "execute_result"
    }
   ],
   "source": [
    "VP_Name = newdata['VP Name'].value_counts()\n",
    "VP_Name"
   ]
  },
  {
   "cell_type": "code",
   "execution_count": 22,
   "id": "bdc13056",
   "metadata": {
    "ExecuteTime": {
     "end_time": "2025-01-30T12:21:10.648810Z",
     "start_time": "2025-01-30T12:21:10.030277Z"
    }
   },
   "outputs": [
    {
     "data": {
      "image/png": "[encoded data removed]",
      "text/plain": [
       "<Figure size 640x480 with 1 Axes>"
      ]
     },
     "metadata": {},
     "output_type": "display_data"
    }
   ],
   "source": [
    "plt.pie(VP_Name[:5], labels=VP_Name_index[:5], autopct = '%1.2f%%')\n",
    "plt.show()"
   ]
  },
  {
   "cell_type": "code",
   "execution_count": 23,
   "id": "f08da9b9",
   "metadata": {
    "ExecuteTime": {
     "end_time": "2025-01-30T12:21:10.705908Z",
     "start_time": "2025-01-30T12:21:10.669242Z"
    }
   },
   "outputs": [],
   "source": [
    "# We have to check the relationship between independent variable vs Dep variables"
   ]
  },
  {
   "cell_type": "code",
   "execution_count": 24,
   "id": "271d9201",
   "metadata": {
    "ExecuteTime": {
     "end_time": "2025-01-30T12:21:10.789317Z",
     "start_time": "2025-01-30T12:21:10.733635Z"
    }
   },
   "outputs": [
    {
     "data": {
      "text/html": [
       "<div>\n",
       "<style scoped>\n",
       "    .dataframe tbody tr th:only-of-type {\n",
       "        vertical-align: middle;\n",
       "    }\n",
       "\n",
       "    .dataframe tbody tr th {\n",
       "        vertical-align: top;\n",
       "    }\n",
       "\n",
       "    .dataframe thead th {\n",
       "        text-align: right;\n",
       "    }\n",
       "</style>\n",
       "<table border=\"1\" class=\"dataframe\">\n",
       "  <thead>\n",
       "    <tr style=\"text-align: right;\">\n",
       "      <th></th>\n",
       "      <th>Client Category</th>\n",
       "      <th>Solution Type</th>\n",
       "      <th>Deal Date</th>\n",
       "      <th>Sector</th>\n",
       "      <th>Location</th>\n",
       "      <th>VP Name</th>\n",
       "      <th>Manager Name</th>\n",
       "      <th>Deal Cost</th>\n",
       "      <th>Deal Status Code</th>\n",
       "    </tr>\n",
       "  </thead>\n",
       "  <tbody>\n",
       "    <tr>\n",
       "      <th>0</th>\n",
       "      <td>Telecom</td>\n",
       "      <td>Solution 7</td>\n",
       "      <td>2012-03-27</td>\n",
       "      <td>Sector 24</td>\n",
       "      <td>L5</td>\n",
       "      <td>Ekta Zutshi</td>\n",
       "      <td>Gopa Trilochana</td>\n",
       "      <td>150000.00</td>\n",
       "      <td>Won</td>\n",
       "    </tr>\n",
       "    <tr>\n",
       "      <th>1</th>\n",
       "      <td>Telecom</td>\n",
       "      <td>Solution 7</td>\n",
       "      <td>2012-09-25</td>\n",
       "      <td>Sector 24</td>\n",
       "      <td>L5</td>\n",
       "      <td>Ekta Zutshi</td>\n",
       "      <td>Gopa Trilochana</td>\n",
       "      <td>744705.88</td>\n",
       "      <td>Won</td>\n",
       "    </tr>\n",
       "  </tbody>\n",
       "</table>\n",
       "</div>"
      ],
      "text/plain": [
       "  Client Category Solution Type  Deal Date     Sector Location      VP Name  \\\n",
       "0         Telecom    Solution 7 2012-03-27  Sector 24       L5  Ekta Zutshi   \n",
       "1         Telecom    Solution 7 2012-09-25  Sector 24       L5  Ekta Zutshi   \n",
       "\n",
       "      Manager Name  Deal Cost Deal Status Code  \n",
       "0  Gopa Trilochana  150000.00              Won  \n",
       "1  Gopa Trilochana  744705.88              Won  "
      ]
     },
     "execution_count": 24,
     "metadata": {},
     "output_type": "execute_result"
    }
   ],
   "source": [
    "newdata.head(2)"
   ]
  },
  {
   "cell_type": "code",
   "execution_count": 25,
   "id": "4f34e29c",
   "metadata": {
    "ExecuteTime": {
     "end_time": "2025-01-30T12:21:10.821707Z",
     "start_time": "2025-01-30T12:21:10.797605Z"
    }
   },
   "outputs": [
    {
     "data": {
      "text/plain": [
       "Index(['Client Category', 'Solution Type', 'Deal Date', 'Sector', 'Location',\n",
       "       'VP Name', 'Manager Name', 'Deal Cost', 'Deal Status Code'],\n",
       "      dtype='object')"
      ]
     },
     "execution_count": 25,
     "metadata": {},
     "output_type": "execute_result"
    }
   ],
   "source": [
    "newdata.columns"
   ]
  },
  {
   "cell_type": "markdown",
   "id": "b70f82c6",
   "metadata": {},
   "source": [
    "## Checking relation between different variables"
   ]
  },
  {
   "cell_type": "code",
   "execution_count": 26,
   "id": "93c36852",
   "metadata": {
    "ExecuteTime": {
     "end_time": "2025-01-30T12:21:10.860677Z",
     "start_time": "2025-01-30T12:21:10.826418Z"
    }
   },
   "outputs": [],
   "source": [
    "rel_client_cat = newdata[['Client Category',\n",
    "                     'Deal Status Code']].groupby(['Client Category',\n",
    "                                                   'Deal Status Code']).size().reset_index().rename(columns={0:'Deal Status Code'})"
   ]
  },
  {
   "cell_type": "code",
   "execution_count": 27,
   "id": "59cef9a0",
   "metadata": {
    "ExecuteTime": {
     "end_time": "2025-01-30T12:21:10.912746Z",
     "start_time": "2025-01-30T12:21:10.863535Z"
    }
   },
   "outputs": [
    {
     "data": {
      "text/html": [
       "<div>\n",
       "<style scoped>\n",
       "    .dataframe tbody tr th:only-of-type {\n",
       "        vertical-align: middle;\n",
       "    }\n",
       "\n",
       "    .dataframe tbody tr th {\n",
       "        vertical-align: top;\n",
       "    }\n",
       "\n",
       "    .dataframe thead th {\n",
       "        text-align: right;\n",
       "    }\n",
       "</style>\n",
       "<table border=\"1\" class=\"dataframe\">\n",
       "  <thead>\n",
       "    <tr style=\"text-align: right;\">\n",
       "      <th></th>\n",
       "      <th>Client Category</th>\n",
       "      <th>Deal Status Code</th>\n",
       "      <th>Deal Status Code</th>\n",
       "    </tr>\n",
       "  </thead>\n",
       "  <tbody>\n",
       "    <tr>\n",
       "      <th>0</th>\n",
       "      <td>Airpline</td>\n",
       "      <td>Lost</td>\n",
       "      <td>22</td>\n",
       "    </tr>\n",
       "    <tr>\n",
       "      <th>1</th>\n",
       "      <td>Airpline</td>\n",
       "      <td>Won</td>\n",
       "      <td>5</td>\n",
       "    </tr>\n",
       "    <tr>\n",
       "      <th>2</th>\n",
       "      <td>Automobiles</td>\n",
       "      <td>Lost</td>\n",
       "      <td>112</td>\n",
       "    </tr>\n",
       "    <tr>\n",
       "      <th>3</th>\n",
       "      <td>Automobiles</td>\n",
       "      <td>Won</td>\n",
       "      <td>66</td>\n",
       "    </tr>\n",
       "    <tr>\n",
       "      <th>4</th>\n",
       "      <td>Consulting</td>\n",
       "      <td>Lost</td>\n",
       "      <td>182</td>\n",
       "    </tr>\n",
       "    <tr>\n",
       "      <th>...</th>\n",
       "      <td>...</td>\n",
       "      <td>...</td>\n",
       "      <td>...</td>\n",
       "    </tr>\n",
       "    <tr>\n",
       "      <th>77</th>\n",
       "      <td>Tech</td>\n",
       "      <td>Won</td>\n",
       "      <td>313</td>\n",
       "    </tr>\n",
       "    <tr>\n",
       "      <th>78</th>\n",
       "      <td>Telecom</td>\n",
       "      <td>Lost</td>\n",
       "      <td>192</td>\n",
       "    </tr>\n",
       "    <tr>\n",
       "      <th>79</th>\n",
       "      <td>Telecom</td>\n",
       "      <td>Won</td>\n",
       "      <td>135</td>\n",
       "    </tr>\n",
       "    <tr>\n",
       "      <th>80</th>\n",
       "      <td>e-commerce</td>\n",
       "      <td>Lost</td>\n",
       "      <td>20</td>\n",
       "    </tr>\n",
       "    <tr>\n",
       "      <th>81</th>\n",
       "      <td>e-commerce</td>\n",
       "      <td>Won</td>\n",
       "      <td>12</td>\n",
       "    </tr>\n",
       "  </tbody>\n",
       "</table>\n",
       "<p>82 rows × 3 columns</p>\n",
       "</div>"
      ],
      "text/plain": [
       "   Client Category  Deal Status Code  Deal Status Code\n",
       "0         Airpline              Lost                22\n",
       "1         Airpline               Won                 5\n",
       "2      Automobiles              Lost               112\n",
       "3      Automobiles               Won                66\n",
       "4       Consulting              Lost               182\n",
       "..             ...               ...               ...\n",
       "77            Tech               Won               313\n",
       "78         Telecom              Lost               192\n",
       "79         Telecom               Won               135\n",
       "80      e-commerce              Lost                20\n",
       "81      e-commerce               Won                12\n",
       "\n",
       "[82 rows x 3 columns]"
      ]
     },
     "execution_count": 27,
     "metadata": {},
     "output_type": "execute_result"
    }
   ],
   "source": [
    "rel_client_cat"
   ]
  },
  {
   "cell_type": "code",
   "execution_count": 28,
   "id": "84968b35",
   "metadata": {
    "ExecuteTime": {
     "end_time": "2025-01-30T12:21:10.962956Z",
     "start_time": "2025-01-30T12:21:10.924918Z"
    }
   },
   "outputs": [],
   "source": [
    "Solution_Type_cat = newdata[['Solution Type',\n",
    "                     'Deal Status Code']].groupby(['Solution Type',\n",
    "                                                   'Deal Status Code']).size().reset_index().rename(columns={0:'Deal Status Code'})"
   ]
  },
  {
   "cell_type": "code",
   "execution_count": 29,
   "id": "f828473c",
   "metadata": {
    "ExecuteTime": {
     "end_time": "2025-01-30T12:21:11.018237Z",
     "start_time": "2025-01-30T12:21:10.962956Z"
    }
   },
   "outputs": [
    {
     "data": {
      "text/html": [
       "<div>\n",
       "<style scoped>\n",
       "    .dataframe tbody tr th:only-of-type {\n",
       "        vertical-align: middle;\n",
       "    }\n",
       "\n",
       "    .dataframe tbody tr th {\n",
       "        vertical-align: top;\n",
       "    }\n",
       "\n",
       "    .dataframe thead th {\n",
       "        text-align: right;\n",
       "    }\n",
       "</style>\n",
       "<table border=\"1\" class=\"dataframe\">\n",
       "  <thead>\n",
       "    <tr style=\"text-align: right;\">\n",
       "      <th></th>\n",
       "      <th>Solution Type</th>\n",
       "      <th>Deal Status Code</th>\n",
       "      <th>Deal Status Code</th>\n",
       "    </tr>\n",
       "  </thead>\n",
       "  <tbody>\n",
       "    <tr>\n",
       "      <th>0</th>\n",
       "      <td>Solution 1</td>\n",
       "      <td>Lost</td>\n",
       "      <td>2</td>\n",
       "    </tr>\n",
       "    <tr>\n",
       "      <th>1</th>\n",
       "      <td>Solution 1</td>\n",
       "      <td>Won</td>\n",
       "      <td>3</td>\n",
       "    </tr>\n",
       "    <tr>\n",
       "      <th>2</th>\n",
       "      <td>Solution 10</td>\n",
       "      <td>Lost</td>\n",
       "      <td>690</td>\n",
       "    </tr>\n",
       "    <tr>\n",
       "      <th>3</th>\n",
       "      <td>Solution 10</td>\n",
       "      <td>Won</td>\n",
       "      <td>326</td>\n",
       "    </tr>\n",
       "    <tr>\n",
       "      <th>4</th>\n",
       "      <td>Solution 11</td>\n",
       "      <td>Lost</td>\n",
       "      <td>88</td>\n",
       "    </tr>\n",
       "    <tr>\n",
       "      <th>...</th>\n",
       "      <td>...</td>\n",
       "      <td>...</td>\n",
       "      <td>...</td>\n",
       "    </tr>\n",
       "    <tr>\n",
       "      <th>111</th>\n",
       "      <td>Solution 7</td>\n",
       "      <td>Won</td>\n",
       "      <td>62</td>\n",
       "    </tr>\n",
       "    <tr>\n",
       "      <th>112</th>\n",
       "      <td>Solution 8</td>\n",
       "      <td>Lost</td>\n",
       "      <td>190</td>\n",
       "    </tr>\n",
       "    <tr>\n",
       "      <th>113</th>\n",
       "      <td>Solution 8</td>\n",
       "      <td>Won</td>\n",
       "      <td>184</td>\n",
       "    </tr>\n",
       "    <tr>\n",
       "      <th>114</th>\n",
       "      <td>Solution 9</td>\n",
       "      <td>Lost</td>\n",
       "      <td>1018</td>\n",
       "    </tr>\n",
       "    <tr>\n",
       "      <th>115</th>\n",
       "      <td>Solution 9</td>\n",
       "      <td>Won</td>\n",
       "      <td>400</td>\n",
       "    </tr>\n",
       "  </tbody>\n",
       "</table>\n",
       "<p>116 rows × 3 columns</p>\n",
       "</div>"
      ],
      "text/plain": [
       "    Solution Type  Deal Status Code  Deal Status Code\n",
       "0      Solution 1              Lost                 2\n",
       "1      Solution 1               Won                 3\n",
       "2     Solution 10              Lost               690\n",
       "3     Solution 10               Won               326\n",
       "4     Solution 11              Lost                88\n",
       "..            ...               ...               ...\n",
       "111    Solution 7               Won                62\n",
       "112    Solution 8              Lost               190\n",
       "113    Solution 8               Won               184\n",
       "114    Solution 9              Lost              1018\n",
       "115    Solution 9               Won               400\n",
       "\n",
       "[116 rows x 3 columns]"
      ]
     },
     "execution_count": 29,
     "metadata": {},
     "output_type": "execute_result"
    }
   ],
   "source": [
    "Solution_Type_cat"
   ]
  },
  {
   "cell_type": "code",
   "execution_count": 30,
   "id": "e94e0df3",
   "metadata": {
    "ExecuteTime": {
     "end_time": "2025-01-30T12:21:11.095648Z",
     "start_time": "2025-01-30T12:21:11.036482Z"
    }
   },
   "outputs": [],
   "source": [
    "VP_Name_cat = newdata[['VP Name',\n",
    "                     'Deal Status Code']].groupby(['VP Name',\n",
    "                                                   'Deal Status Code']).size().reset_index().rename(columns={0:'Deal Status Code'})"
   ]
  },
  {
   "cell_type": "code",
   "execution_count": 31,
   "id": "acfa6a1b",
   "metadata": {
    "ExecuteTime": {
     "end_time": "2025-01-30T12:21:11.180294Z",
     "start_time": "2025-01-30T12:21:11.105469Z"
    }
   },
   "outputs": [
    {
     "data": {
      "text/html": [
       "<div>\n",
       "<style scoped>\n",
       "    .dataframe tbody tr th:only-of-type {\n",
       "        vertical-align: middle;\n",
       "    }\n",
       "\n",
       "    .dataframe tbody tr th {\n",
       "        vertical-align: top;\n",
       "    }\n",
       "\n",
       "    .dataframe thead th {\n",
       "        text-align: right;\n",
       "    }\n",
       "</style>\n",
       "<table border=\"1\" class=\"dataframe\">\n",
       "  <thead>\n",
       "    <tr style=\"text-align: right;\">\n",
       "      <th></th>\n",
       "      <th>VP Name</th>\n",
       "      <th>Deal Status Code</th>\n",
       "      <th>Deal Status Code</th>\n",
       "    </tr>\n",
       "  </thead>\n",
       "  <tbody>\n",
       "    <tr>\n",
       "      <th>0</th>\n",
       "      <td>Alam Syed</td>\n",
       "      <td>Lost</td>\n",
       "      <td>62</td>\n",
       "    </tr>\n",
       "    <tr>\n",
       "      <th>1</th>\n",
       "      <td>Alam Syed</td>\n",
       "      <td>Won</td>\n",
       "      <td>64</td>\n",
       "    </tr>\n",
       "    <tr>\n",
       "      <th>2</th>\n",
       "      <td>Ankita Aggarwal</td>\n",
       "      <td>Lost</td>\n",
       "      <td>866</td>\n",
       "    </tr>\n",
       "    <tr>\n",
       "      <th>3</th>\n",
       "      <td>Ankita Aggarwal</td>\n",
       "      <td>Won</td>\n",
       "      <td>277</td>\n",
       "    </tr>\n",
       "    <tr>\n",
       "      <th>4</th>\n",
       "      <td>Brendon Wycoff</td>\n",
       "      <td>Lost</td>\n",
       "      <td>132</td>\n",
       "    </tr>\n",
       "    <tr>\n",
       "      <th>5</th>\n",
       "      <td>Brendon Wycoff</td>\n",
       "      <td>Won</td>\n",
       "      <td>57</td>\n",
       "    </tr>\n",
       "    <tr>\n",
       "      <th>6</th>\n",
       "      <td>Clinton Mani</td>\n",
       "      <td>Lost</td>\n",
       "      <td>124</td>\n",
       "    </tr>\n",
       "    <tr>\n",
       "      <th>7</th>\n",
       "      <td>Clinton Mani</td>\n",
       "      <td>Won</td>\n",
       "      <td>60</td>\n",
       "    </tr>\n",
       "    <tr>\n",
       "      <th>8</th>\n",
       "      <td>Dennis Faux</td>\n",
       "      <td>Lost</td>\n",
       "      <td>12</td>\n",
       "    </tr>\n",
       "    <tr>\n",
       "      <th>9</th>\n",
       "      <td>Dennis Faux</td>\n",
       "      <td>Won</td>\n",
       "      <td>1</td>\n",
       "    </tr>\n",
       "    <tr>\n",
       "      <th>10</th>\n",
       "      <td>Earline Langton</td>\n",
       "      <td>Lost</td>\n",
       "      <td>52</td>\n",
       "    </tr>\n",
       "    <tr>\n",
       "      <th>11</th>\n",
       "      <td>Earline Langton</td>\n",
       "      <td>Won</td>\n",
       "      <td>30</td>\n",
       "    </tr>\n",
       "    <tr>\n",
       "      <th>12</th>\n",
       "      <td>Ekta Zutshi</td>\n",
       "      <td>Lost</td>\n",
       "      <td>206</td>\n",
       "    </tr>\n",
       "    <tr>\n",
       "      <th>13</th>\n",
       "      <td>Ekta Zutshi</td>\n",
       "      <td>Won</td>\n",
       "      <td>344</td>\n",
       "    </tr>\n",
       "    <tr>\n",
       "      <th>14</th>\n",
       "      <td>Gaurav Sameria</td>\n",
       "      <td>Lost</td>\n",
       "      <td>66</td>\n",
       "    </tr>\n",
       "    <tr>\n",
       "      <th>15</th>\n",
       "      <td>Gaurav Sameria</td>\n",
       "      <td>Won</td>\n",
       "      <td>48</td>\n",
       "    </tr>\n",
       "    <tr>\n",
       "      <th>16</th>\n",
       "      <td>Gayle Molter</td>\n",
       "      <td>Lost</td>\n",
       "      <td>74</td>\n",
       "    </tr>\n",
       "    <tr>\n",
       "      <th>17</th>\n",
       "      <td>Gayle Molter</td>\n",
       "      <td>Won</td>\n",
       "      <td>30</td>\n",
       "    </tr>\n",
       "    <tr>\n",
       "      <th>18</th>\n",
       "      <td>Gopa Trilochana</td>\n",
       "      <td>Lost</td>\n",
       "      <td>84</td>\n",
       "    </tr>\n",
       "    <tr>\n",
       "      <th>19</th>\n",
       "      <td>Gopa Trilochana</td>\n",
       "      <td>Won</td>\n",
       "      <td>52</td>\n",
       "    </tr>\n",
       "  </tbody>\n",
       "</table>\n",
       "</div>"
      ],
      "text/plain": [
       "            VP Name  Deal Status Code  Deal Status Code\n",
       "0         Alam Syed              Lost                62\n",
       "1         Alam Syed               Won                64\n",
       "2   Ankita Aggarwal              Lost               866\n",
       "3   Ankita Aggarwal               Won               277\n",
       "4    Brendon Wycoff              Lost               132\n",
       "5    Brendon Wycoff               Won                57\n",
       "6      Clinton Mani              Lost               124\n",
       "7      Clinton Mani               Won                60\n",
       "8       Dennis Faux              Lost                12\n",
       "9       Dennis Faux               Won                 1\n",
       "10  Earline Langton              Lost                52\n",
       "11  Earline Langton               Won                30\n",
       "12      Ekta Zutshi              Lost               206\n",
       "13      Ekta Zutshi               Won               344\n",
       "14   Gaurav Sameria              Lost                66\n",
       "15   Gaurav Sameria               Won                48\n",
       "16     Gayle Molter              Lost                74\n",
       "17     Gayle Molter               Won                30\n",
       "18  Gopa Trilochana              Lost                84\n",
       "19  Gopa Trilochana               Won                52"
      ]
     },
     "execution_count": 31,
     "metadata": {},
     "output_type": "execute_result"
    }
   ],
   "source": [
    "VP_Name_cat.head(20)"
   ]
  },
  {
   "cell_type": "code",
   "execution_count": 32,
   "id": "61620e64",
   "metadata": {
    "ExecuteTime": {
     "end_time": "2025-01-30T12:21:11.259553Z",
     "start_time": "2025-01-30T12:21:11.195931Z"
    }
   },
   "outputs": [],
   "source": [
    "Manager_Name_cat = newdata[['Manager Name',\n",
    "                     'Deal Status Code']].groupby(['Manager Name',\n",
    "                                                   'Deal Status Code']).size().reset_index().rename(columns={0:'Total count'})"
   ]
  },
  {
   "cell_type": "code",
   "execution_count": 33,
   "id": "fc689269",
   "metadata": {
    "ExecuteTime": {
     "end_time": "2025-01-30T12:21:11.313919Z",
     "start_time": "2025-01-30T12:21:11.261695Z"
    }
   },
   "outputs": [
    {
     "data": {
      "text/html": [
       "<div>\n",
       "<style scoped>\n",
       "    .dataframe tbody tr th:only-of-type {\n",
       "        vertical-align: middle;\n",
       "    }\n",
       "\n",
       "    .dataframe tbody tr th {\n",
       "        vertical-align: top;\n",
       "    }\n",
       "\n",
       "    .dataframe thead th {\n",
       "        text-align: right;\n",
       "    }\n",
       "</style>\n",
       "<table border=\"1\" class=\"dataframe\">\n",
       "  <thead>\n",
       "    <tr style=\"text-align: right;\">\n",
       "      <th></th>\n",
       "      <th>Manager Name</th>\n",
       "      <th>Deal Status Code</th>\n",
       "      <th>Total count</th>\n",
       "    </tr>\n",
       "  </thead>\n",
       "  <tbody>\n",
       "    <tr>\n",
       "      <th>0</th>\n",
       "      <td>Aastha Gandhi</td>\n",
       "      <td>Won</td>\n",
       "      <td>1</td>\n",
       "    </tr>\n",
       "    <tr>\n",
       "      <th>1</th>\n",
       "      <td>Abhinav Warrier</td>\n",
       "      <td>Lost</td>\n",
       "      <td>80</td>\n",
       "    </tr>\n",
       "    <tr>\n",
       "      <th>2</th>\n",
       "      <td>Abhinav Warrier</td>\n",
       "      <td>Won</td>\n",
       "      <td>15</td>\n",
       "    </tr>\n",
       "    <tr>\n",
       "      <th>3</th>\n",
       "      <td>Abhishek Singhal</td>\n",
       "      <td>Lost</td>\n",
       "      <td>44</td>\n",
       "    </tr>\n",
       "    <tr>\n",
       "      <th>4</th>\n",
       "      <td>Abhishek Singhal</td>\n",
       "      <td>Won</td>\n",
       "      <td>23</td>\n",
       "    </tr>\n",
       "    <tr>\n",
       "      <th>...</th>\n",
       "      <td>...</td>\n",
       "      <td>...</td>\n",
       "      <td>...</td>\n",
       "    </tr>\n",
       "    <tr>\n",
       "      <th>470</th>\n",
       "      <td>sunder paal</td>\n",
       "      <td>Won</td>\n",
       "      <td>6</td>\n",
       "    </tr>\n",
       "    <tr>\n",
       "      <th>471</th>\n",
       "      <td>vansu dev</td>\n",
       "      <td>Lost</td>\n",
       "      <td>78</td>\n",
       "    </tr>\n",
       "    <tr>\n",
       "      <th>472</th>\n",
       "      <td>vansu dev</td>\n",
       "      <td>Won</td>\n",
       "      <td>54</td>\n",
       "    </tr>\n",
       "    <tr>\n",
       "      <th>473</th>\n",
       "      <td>vinit katariya</td>\n",
       "      <td>Lost</td>\n",
       "      <td>14</td>\n",
       "    </tr>\n",
       "    <tr>\n",
       "      <th>474</th>\n",
       "      <td>vinit katariya</td>\n",
       "      <td>Won</td>\n",
       "      <td>2</td>\n",
       "    </tr>\n",
       "  </tbody>\n",
       "</table>\n",
       "<p>475 rows × 3 columns</p>\n",
       "</div>"
      ],
      "text/plain": [
       "         Manager Name Deal Status Code  Total count\n",
       "0       Aastha Gandhi              Won            1\n",
       "1     Abhinav Warrier             Lost           80\n",
       "2     Abhinav Warrier              Won           15\n",
       "3    Abhishek Singhal             Lost           44\n",
       "4    Abhishek Singhal              Won           23\n",
       "..                ...              ...          ...\n",
       "470       sunder paal              Won            6\n",
       "471         vansu dev             Lost           78\n",
       "472         vansu dev              Won           54\n",
       "473    vinit katariya             Lost           14\n",
       "474    vinit katariya              Won            2\n",
       "\n",
       "[475 rows x 3 columns]"
      ]
     },
     "execution_count": 33,
     "metadata": {},
     "output_type": "execute_result"
    }
   ],
   "source": [
    "Manager_Name_cat"
   ]
  },
  {
   "cell_type": "code",
   "execution_count": 34,
   "id": "a4eb6f03",
   "metadata": {
    "ExecuteTime": {
     "end_time": "2025-01-30T12:21:11.397298Z",
     "start_time": "2025-01-30T12:21:11.328193Z"
    }
   },
   "outputs": [
    {
     "data": {
      "text/html": [
       "<div>\n",
       "<style scoped>\n",
       "    .dataframe tbody tr th:only-of-type {\n",
       "        vertical-align: middle;\n",
       "    }\n",
       "\n",
       "    .dataframe tbody tr th {\n",
       "        vertical-align: top;\n",
       "    }\n",
       "\n",
       "    .dataframe thead th {\n",
       "        text-align: right;\n",
       "    }\n",
       "</style>\n",
       "<table border=\"1\" class=\"dataframe\">\n",
       "  <thead>\n",
       "    <tr style=\"text-align: right;\">\n",
       "      <th></th>\n",
       "      <th>Client Category</th>\n",
       "      <th>Solution Type</th>\n",
       "      <th>Deal Date</th>\n",
       "      <th>Sector</th>\n",
       "      <th>Location</th>\n",
       "      <th>VP Name</th>\n",
       "      <th>Manager Name</th>\n",
       "      <th>Deal Cost</th>\n",
       "      <th>Deal Status Code</th>\n",
       "    </tr>\n",
       "  </thead>\n",
       "  <tbody>\n",
       "    <tr>\n",
       "      <th>0</th>\n",
       "      <td>Telecom</td>\n",
       "      <td>Solution 7</td>\n",
       "      <td>2012-03-27</td>\n",
       "      <td>Sector 24</td>\n",
       "      <td>L5</td>\n",
       "      <td>Ekta Zutshi</td>\n",
       "      <td>Gopa Trilochana</td>\n",
       "      <td>150000.00</td>\n",
       "      <td>Won</td>\n",
       "    </tr>\n",
       "    <tr>\n",
       "      <th>1</th>\n",
       "      <td>Telecom</td>\n",
       "      <td>Solution 7</td>\n",
       "      <td>2012-09-25</td>\n",
       "      <td>Sector 24</td>\n",
       "      <td>L5</td>\n",
       "      <td>Ekta Zutshi</td>\n",
       "      <td>Gopa Trilochana</td>\n",
       "      <td>744705.88</td>\n",
       "      <td>Won</td>\n",
       "    </tr>\n",
       "    <tr>\n",
       "      <th>2</th>\n",
       "      <td>Internal</td>\n",
       "      <td>Solution 59</td>\n",
       "      <td>2011-08-01</td>\n",
       "      <td>Sector 20</td>\n",
       "      <td>Others</td>\n",
       "      <td>Ekta Zutshi</td>\n",
       "      <td>Russell Dahlen</td>\n",
       "      <td>60000.00</td>\n",
       "      <td>Lost</td>\n",
       "    </tr>\n",
       "    <tr>\n",
       "      <th>3</th>\n",
       "      <td>Internal</td>\n",
       "      <td>Solution 59</td>\n",
       "      <td>2011-04-28</td>\n",
       "      <td>Sector 20</td>\n",
       "      <td>Others</td>\n",
       "      <td>Ekta Zutshi</td>\n",
       "      <td>Russell Dahlen</td>\n",
       "      <td>60000.00</td>\n",
       "      <td>Lost</td>\n",
       "    </tr>\n",
       "    <tr>\n",
       "      <th>4</th>\n",
       "      <td>Internal</td>\n",
       "      <td>Solution 32</td>\n",
       "      <td>2011-06-03</td>\n",
       "      <td>Sector 20</td>\n",
       "      <td>Others</td>\n",
       "      <td>Ekta Zutshi</td>\n",
       "      <td>Russell Dahlen</td>\n",
       "      <td>80882.35</td>\n",
       "      <td>Lost</td>\n",
       "    </tr>\n",
       "  </tbody>\n",
       "</table>\n",
       "</div>"
      ],
      "text/plain": [
       "  Client Category Solution Type  Deal Date     Sector Location      VP Name  \\\n",
       "0         Telecom    Solution 7 2012-03-27  Sector 24       L5  Ekta Zutshi   \n",
       "1         Telecom    Solution 7 2012-09-25  Sector 24       L5  Ekta Zutshi   \n",
       "2        Internal   Solution 59 2011-08-01  Sector 20   Others  Ekta Zutshi   \n",
       "3        Internal   Solution 59 2011-04-28  Sector 20   Others  Ekta Zutshi   \n",
       "4        Internal   Solution 32 2011-06-03  Sector 20   Others  Ekta Zutshi   \n",
       "\n",
       "      Manager Name  Deal Cost Deal Status Code  \n",
       "0  Gopa Trilochana  150000.00              Won  \n",
       "1  Gopa Trilochana  744705.88              Won  \n",
       "2   Russell Dahlen   60000.00             Lost  \n",
       "3   Russell Dahlen   60000.00             Lost  \n",
       "4   Russell Dahlen   80882.35             Lost  "
      ]
     },
     "execution_count": 34,
     "metadata": {},
     "output_type": "execute_result"
    }
   ],
   "source": [
    "newdata.head()"
   ]
  },
  {
   "cell_type": "code",
   "execution_count": 35,
   "id": "f8c2e0e0",
   "metadata": {
    "ExecuteTime": {
     "end_time": "2025-01-30T12:21:11.504999Z",
     "start_time": "2025-01-30T12:21:11.414861Z"
    }
   },
   "outputs": [
    {
     "name": "stdout",
     "output_type": "stream",
     "text": [
      "Manager Name      Aastha Gandhi  Abhinav Warrier  Abhishek Singhal  \\\n",
      "Deal Status Code                                                     \n",
      "Lost                        NaN    588808.824000     772860.963182   \n",
      "Won                   242647.06    302235.296667     476956.522609   \n",
      "\n",
      "Manager Name      Abhiskek Kumar   Abhiskhek  D    Abram Fines  Aditya Kumar  \\\n",
      "Deal Status Code                                                               \n",
      "Lost               949894.957857  440767.973889  501764.706000     792647.06   \n",
      "Won                587507.740789  375658.823600  714127.789655     250367.65   \n",
      "\n",
      "Manager Name      Aditya Tondon   Ahdarsha Jha  Ahswini Saini  ...  \\\n",
      "Deal Status Code                                               ...   \n",
      "Lost                 1058823.53  924866.311818     1029411.77  ...   \n",
      "Won                         NaN  351102.940000      601470.59  ...   \n",
      "\n",
      "Manager Name          shafibul  sharat chandran   sheak shakir  shiv kumar  \\\n",
      "Deal Status Code                                                             \n",
      "Lost              2.867647e+06       441176.470  882352.940000   219019.61   \n",
      "Won                        NaN       989411.765  461127.451667         NaN   \n",
      "\n",
      "Manager Name      shiv shakti singh    shyam kumar   som dutt  sunder paal  \\\n",
      "Deal Status Code                                                             \n",
      "Lost                     1470588.24  715250.000000        NaN   882352.940   \n",
      "Won                             NaN  307769.608333  198627.45   371960.785   \n",
      "\n",
      "Manager Name         vansu dev  vinit katariya  \n",
      "Deal Status Code                                \n",
      "Lost              9.687406e+05    1.098739e+06  \n",
      "Won               1.253295e+06    3.917206e+06  \n",
      "\n",
      "[2 rows x 278 columns]\n"
     ]
    }
   ],
   "source": [
    "print(pd.pivot_table(newdata, index = 'Deal Status Code', columns = 'Manager Name', values ='Deal Cost'))"
   ]
  },
  {
   "cell_type": "code",
   "execution_count": 36,
   "id": "1440e9ea",
   "metadata": {
    "ExecuteTime": {
     "end_time": "2025-01-30T12:21:11.624785Z",
     "start_time": "2025-01-30T12:21:11.512394Z"
    }
   },
   "outputs": [
    {
     "data": {
      "text/html": [
       "<div>\n",
       "<style scoped>\n",
       "    .dataframe tbody tr th:only-of-type {\n",
       "        vertical-align: middle;\n",
       "    }\n",
       "\n",
       "    .dataframe tbody tr th {\n",
       "        vertical-align: top;\n",
       "    }\n",
       "\n",
       "    .dataframe thead th {\n",
       "        text-align: right;\n",
       "    }\n",
       "</style>\n",
       "<table border=\"1\" class=\"dataframe\">\n",
       "  <thead>\n",
       "    <tr style=\"text-align: right;\">\n",
       "      <th>VP Name</th>\n",
       "      <th>Alam Syed</th>\n",
       "      <th>Ankita Aggarwal</th>\n",
       "      <th>Brendon Wycoff</th>\n",
       "      <th>Clinton Mani</th>\n",
       "      <th>Dennis Faux</th>\n",
       "      <th>Earline Langton</th>\n",
       "      <th>Ekta Zutshi</th>\n",
       "      <th>Gaurav Sameria</th>\n",
       "      <th>Gayle Molter</th>\n",
       "      <th>Gopa Trilochana</th>\n",
       "      <th>...</th>\n",
       "      <th>Saurabh Singh</th>\n",
       "      <th>Son Mcconnaughy</th>\n",
       "      <th>Varsha Arora</th>\n",
       "      <th>Vidur Hukle</th>\n",
       "      <th>Vikram Rawat</th>\n",
       "      <th>Visvajeet Das</th>\n",
       "      <th>Waylon Mulder</th>\n",
       "      <th>md. afsar</th>\n",
       "      <th>neeraj kumar</th>\n",
       "      <th>som dutt</th>\n",
       "    </tr>\n",
       "    <tr>\n",
       "      <th>Deal Status Code</th>\n",
       "      <th></th>\n",
       "      <th></th>\n",
       "      <th></th>\n",
       "      <th></th>\n",
       "      <th></th>\n",
       "      <th></th>\n",
       "      <th></th>\n",
       "      <th></th>\n",
       "      <th></th>\n",
       "      <th></th>\n",
       "      <th></th>\n",
       "      <th></th>\n",
       "      <th></th>\n",
       "      <th></th>\n",
       "      <th></th>\n",
       "      <th></th>\n",
       "      <th></th>\n",
       "      <th></th>\n",
       "      <th></th>\n",
       "      <th></th>\n",
       "      <th></th>\n",
       "    </tr>\n",
       "  </thead>\n",
       "  <tbody>\n",
       "    <tr>\n",
       "      <th>Lost</th>\n",
       "      <td>1.087144e+06</td>\n",
       "      <td>654206.63000</td>\n",
       "      <td>1.096894e+06</td>\n",
       "      <td>776755.218548</td>\n",
       "      <td>554656.861667</td>\n",
       "      <td>1.189219e+06</td>\n",
       "      <td>7.912821e+05</td>\n",
       "      <td>554590.017879</td>\n",
       "      <td>7.291971e+05</td>\n",
       "      <td>1.464321e+06</td>\n",
       "      <td>...</td>\n",
       "      <td>761066.176429</td>\n",
       "      <td>1.517227e+06</td>\n",
       "      <td>7.272255e+05</td>\n",
       "      <td>615517.241724</td>\n",
       "      <td>1.681103e+06</td>\n",
       "      <td>1176470.59</td>\n",
       "      <td>235294.12</td>\n",
       "      <td>3235294.12</td>\n",
       "      <td>478943.956142</td>\n",
       "      <td>554650.469710</td>\n",
       "    </tr>\n",
       "    <tr>\n",
       "      <th>Won</th>\n",
       "      <td>1.172937e+06</td>\n",
       "      <td>503528.35065</td>\n",
       "      <td>1.909288e+06</td>\n",
       "      <td>600857.843500</td>\n",
       "      <td>315294.120000</td>\n",
       "      <td>6.034314e+05</td>\n",
       "      <td>1.021396e+06</td>\n",
       "      <td>586433.823958</td>\n",
       "      <td>1.282863e+06</td>\n",
       "      <td>8.195701e+05</td>\n",
       "      <td>...</td>\n",
       "      <td>962863.052187</td>\n",
       "      <td>5.470632e+05</td>\n",
       "      <td>3.454505e+06</td>\n",
       "      <td>540581.233095</td>\n",
       "      <td>5.161111e+05</td>\n",
       "      <td>5588235.29</td>\n",
       "      <td>88235.29</td>\n",
       "      <td>NaN</td>\n",
       "      <td>693700.190092</td>\n",
       "      <td>562977.044756</td>\n",
       "    </tr>\n",
       "  </tbody>\n",
       "</table>\n",
       "<p>2 rows × 43 columns</p>\n",
       "</div>"
      ],
      "text/plain": [
       "VP Name              Alam Syed  Ankita Aggarwal  Brendon Wycoff  \\\n",
       "Deal Status Code                                                  \n",
       "Lost              1.087144e+06     654206.63000    1.096894e+06   \n",
       "Won               1.172937e+06     503528.35065    1.909288e+06   \n",
       "\n",
       "VP Name            Clinton Mani    Dennis Faux  Earline Langton   Ekta Zutshi  \\\n",
       "Deal Status Code                                                                \n",
       "Lost              776755.218548  554656.861667     1.189219e+06  7.912821e+05   \n",
       "Won               600857.843500  315294.120000     6.034314e+05  1.021396e+06   \n",
       "\n",
       "VP Name           Gaurav Sameria  Gayle Molter  Gopa Trilochana  ...  \\\n",
       "Deal Status Code                                                 ...   \n",
       "Lost               554590.017879  7.291971e+05     1.464321e+06  ...   \n",
       "Won                586433.823958  1.282863e+06     8.195701e+05  ...   \n",
       "\n",
       "VP Name           Saurabh Singh  Son Mcconnaughy  Varsha Arora    Vidur Hukle  \\\n",
       "Deal Status Code                                                                \n",
       "Lost              761066.176429     1.517227e+06  7.272255e+05  615517.241724   \n",
       "Won               962863.052187     5.470632e+05  3.454505e+06  540581.233095   \n",
       "\n",
       "VP Name           Vikram Rawat  Visvajeet Das  Waylon Mulder   md. afsar  \\\n",
       "Deal Status Code                                                           \n",
       "Lost              1.681103e+06     1176470.59      235294.12  3235294.12   \n",
       "Won               5.161111e+05     5588235.29       88235.29         NaN   \n",
       "\n",
       "VP Name            neeraj kumar       som dutt  \n",
       "Deal Status Code                                \n",
       "Lost              478943.956142  554650.469710  \n",
       "Won               693700.190092  562977.044756  \n",
       "\n",
       "[2 rows x 43 columns]"
      ]
     },
     "execution_count": 36,
     "metadata": {},
     "output_type": "execute_result"
    }
   ],
   "source": [
    "pd.pivot_table(newdata, index = 'Deal Status Code', columns = 'VP Name', values ='Deal Cost')"
   ]
  },
  {
   "cell_type": "code",
   "execution_count": 37,
   "id": "d20e168c-e572-4c00-8330-d66c749b1578",
   "metadata": {},
   "outputs": [
    {
     "data": {
      "text/html": [
       "<div>\n",
       "<style scoped>\n",
       "    .dataframe tbody tr th:only-of-type {\n",
       "        vertical-align: middle;\n",
       "    }\n",
       "\n",
       "    .dataframe tbody tr th {\n",
       "        vertical-align: top;\n",
       "    }\n",
       "\n",
       "    .dataframe thead th {\n",
       "        text-align: right;\n",
       "    }\n",
       "</style>\n",
       "<table border=\"1\" class=\"dataframe\">\n",
       "  <thead>\n",
       "    <tr style=\"text-align: right;\">\n",
       "      <th></th>\n",
       "      <th></th>\n",
       "      <th>Won</th>\n",
       "      <th>Lost</th>\n",
       "      <th>Revenue_Earned</th>\n",
       "      <th>Potential_loss</th>\n",
       "    </tr>\n",
       "    <tr>\n",
       "      <th>VP Name</th>\n",
       "      <th>Manager Name</th>\n",
       "      <th></th>\n",
       "      <th></th>\n",
       "      <th></th>\n",
       "      <th></th>\n",
       "    </tr>\n",
       "  </thead>\n",
       "  <tbody>\n",
       "    <tr>\n",
       "      <th rowspan=\"5\" valign=\"top\">Alam Syed</th>\n",
       "      <th>Abhinav Warrier</th>\n",
       "      <td>0</td>\n",
       "      <td>2</td>\n",
       "      <td>0.00</td>\n",
       "      <td>970588.24</td>\n",
       "    </tr>\n",
       "    <tr>\n",
       "      <th>Alam Syed</th>\n",
       "      <td>2</td>\n",
       "      <td>0</td>\n",
       "      <td>7058823.53</td>\n",
       "      <td>0.00</td>\n",
       "    </tr>\n",
       "    <tr>\n",
       "      <th>Darin Vath</th>\n",
       "      <td>17</td>\n",
       "      <td>8</td>\n",
       "      <td>13140588.27</td>\n",
       "      <td>5358823.52</td>\n",
       "    </tr>\n",
       "    <tr>\n",
       "      <th>Deepak Chandra Prakash</th>\n",
       "      <td>6</td>\n",
       "      <td>8</td>\n",
       "      <td>8182352.94</td>\n",
       "      <td>21764705.90</td>\n",
       "    </tr>\n",
       "    <tr>\n",
       "      <th>Dennis Faux</th>\n",
       "      <td>1</td>\n",
       "      <td>0</td>\n",
       "      <td>735294.12</td>\n",
       "      <td>0.00</td>\n",
       "    </tr>\n",
       "  </tbody>\n",
       "</table>\n",
       "</div>"
      ],
      "text/plain": [
       "                                  Won  Lost  Revenue_Earned  Potential_loss\n",
       "VP Name   Manager Name                                                     \n",
       "Alam Syed Abhinav Warrier           0     2            0.00       970588.24\n",
       "          Alam Syed                 2     0      7058823.53            0.00\n",
       "          Darin Vath               17     8     13140588.27      5358823.52\n",
       "          Deepak Chandra Prakash    6     8      8182352.94     21764705.90\n",
       "          Dennis Faux               1     0       735294.12            0.00"
      ]
     },
     "execution_count": 37,
     "metadata": {},
     "output_type": "execute_result"
    }
   ],
   "source": [
    "result = newdata.groupby(['VP Name', 'Manager Name']).agg(\n",
    "    Won=('Deal Status Code', lambda x: (x == 'Won').sum()),\n",
    "    Lost=('Deal Status Code', lambda x: (x == 'Lost').sum()),\n",
    "    Revenue_Earned=('Deal Cost', lambda x: x[newdata.loc[x.index]['Deal Status Code'] == 'Won'].sum()),\n",
    "    Potential_loss=('Deal Cost', lambda x: x[newdata.loc[x.index]['Deal Status Code'] == 'Lost'].sum()))\n",
    "\n",
    "result.head()"
   ]
  },
  {
   "cell_type": "code",
   "execution_count": 38,
   "id": "3dec7a1a",
   "metadata": {
    "ExecuteTime": {
     "end_time": "2025-01-30T12:21:11.672584Z",
     "start_time": "2025-01-30T12:21:11.633590Z"
    }
   },
   "outputs": [
    {
     "name": "stdout",
     "output_type": "stream",
     "text": [
      "<class 'pandas.core.frame.DataFrame'>\n",
      "RangeIndex: 10061 entries, 0 to 10060\n",
      "Data columns (total 9 columns):\n",
      " #   Column            Non-Null Count  Dtype         \n",
      "---  ------            --------------  -----         \n",
      " 0   Client Category   10061 non-null  object        \n",
      " 1   Solution Type     10061 non-null  object        \n",
      " 2   Deal Date         10061 non-null  datetime64[ns]\n",
      " 3   Sector            10061 non-null  object        \n",
      " 4   Location          10061 non-null  object        \n",
      " 5   VP Name           10061 non-null  object        \n",
      " 6   Manager Name      10061 non-null  object        \n",
      " 7   Deal Cost         10061 non-null  float64       \n",
      " 8   Deal Status Code  10061 non-null  object        \n",
      "dtypes: datetime64[ns](1), float64(1), object(7)\n",
      "memory usage: 707.5+ KB\n"
     ]
    }
   ],
   "source": [
    "newdata.info()"
   ]
  },
  {
   "cell_type": "code",
   "execution_count": 39,
   "id": "9223dcf7",
   "metadata": {
    "ExecuteTime": {
     "end_time": "2025-01-30T12:21:11.695960Z",
     "start_time": "2025-01-30T12:21:11.680563Z"
    }
   },
   "outputs": [],
   "source": [
    "# import datetime\n",
    "newdata['Deal_Date_year'] = newdata['Deal Date'].dt.year"
   ]
  },
  {
   "cell_type": "code",
   "execution_count": 40,
   "id": "d3b8b6f1",
   "metadata": {
    "ExecuteTime": {
     "end_time": "2025-01-30T12:21:11.748220Z",
     "start_time": "2025-01-30T12:21:11.704236Z"
    }
   },
   "outputs": [
    {
     "data": {
      "text/html": [
       "<div>\n",
       "<style scoped>\n",
       "    .dataframe tbody tr th:only-of-type {\n",
       "        vertical-align: middle;\n",
       "    }\n",
       "\n",
       "    .dataframe tbody tr th {\n",
       "        vertical-align: top;\n",
       "    }\n",
       "\n",
       "    .dataframe thead th {\n",
       "        text-align: right;\n",
       "    }\n",
       "</style>\n",
       "<table border=\"1\" class=\"dataframe\">\n",
       "  <thead>\n",
       "    <tr style=\"text-align: right;\">\n",
       "      <th></th>\n",
       "      <th>Client Category</th>\n",
       "      <th>Solution Type</th>\n",
       "      <th>Deal Date</th>\n",
       "      <th>Sector</th>\n",
       "      <th>Location</th>\n",
       "      <th>VP Name</th>\n",
       "      <th>Manager Name</th>\n",
       "      <th>Deal Cost</th>\n",
       "      <th>Deal Status Code</th>\n",
       "      <th>Deal_Date_year</th>\n",
       "    </tr>\n",
       "  </thead>\n",
       "  <tbody>\n",
       "    <tr>\n",
       "      <th>0</th>\n",
       "      <td>Telecom</td>\n",
       "      <td>Solution 7</td>\n",
       "      <td>2012-03-27</td>\n",
       "      <td>Sector 24</td>\n",
       "      <td>L5</td>\n",
       "      <td>Ekta Zutshi</td>\n",
       "      <td>Gopa Trilochana</td>\n",
       "      <td>150000.00</td>\n",
       "      <td>Won</td>\n",
       "      <td>2012</td>\n",
       "    </tr>\n",
       "    <tr>\n",
       "      <th>1</th>\n",
       "      <td>Telecom</td>\n",
       "      <td>Solution 7</td>\n",
       "      <td>2012-09-25</td>\n",
       "      <td>Sector 24</td>\n",
       "      <td>L5</td>\n",
       "      <td>Ekta Zutshi</td>\n",
       "      <td>Gopa Trilochana</td>\n",
       "      <td>744705.88</td>\n",
       "      <td>Won</td>\n",
       "      <td>2012</td>\n",
       "    </tr>\n",
       "    <tr>\n",
       "      <th>2</th>\n",
       "      <td>Internal</td>\n",
       "      <td>Solution 59</td>\n",
       "      <td>2011-08-01</td>\n",
       "      <td>Sector 20</td>\n",
       "      <td>Others</td>\n",
       "      <td>Ekta Zutshi</td>\n",
       "      <td>Russell Dahlen</td>\n",
       "      <td>60000.00</td>\n",
       "      <td>Lost</td>\n",
       "      <td>2011</td>\n",
       "    </tr>\n",
       "    <tr>\n",
       "      <th>3</th>\n",
       "      <td>Internal</td>\n",
       "      <td>Solution 59</td>\n",
       "      <td>2011-04-28</td>\n",
       "      <td>Sector 20</td>\n",
       "      <td>Others</td>\n",
       "      <td>Ekta Zutshi</td>\n",
       "      <td>Russell Dahlen</td>\n",
       "      <td>60000.00</td>\n",
       "      <td>Lost</td>\n",
       "      <td>2011</td>\n",
       "    </tr>\n",
       "    <tr>\n",
       "      <th>4</th>\n",
       "      <td>Internal</td>\n",
       "      <td>Solution 32</td>\n",
       "      <td>2011-06-03</td>\n",
       "      <td>Sector 20</td>\n",
       "      <td>Others</td>\n",
       "      <td>Ekta Zutshi</td>\n",
       "      <td>Russell Dahlen</td>\n",
       "      <td>80882.35</td>\n",
       "      <td>Lost</td>\n",
       "      <td>2011</td>\n",
       "    </tr>\n",
       "  </tbody>\n",
       "</table>\n",
       "</div>"
      ],
      "text/plain": [
       "  Client Category Solution Type  Deal Date     Sector Location      VP Name  \\\n",
       "0         Telecom    Solution 7 2012-03-27  Sector 24       L5  Ekta Zutshi   \n",
       "1         Telecom    Solution 7 2012-09-25  Sector 24       L5  Ekta Zutshi   \n",
       "2        Internal   Solution 59 2011-08-01  Sector 20   Others  Ekta Zutshi   \n",
       "3        Internal   Solution 59 2011-04-28  Sector 20   Others  Ekta Zutshi   \n",
       "4        Internal   Solution 32 2011-06-03  Sector 20   Others  Ekta Zutshi   \n",
       "\n",
       "      Manager Name  Deal Cost Deal Status Code  Deal_Date_year  \n",
       "0  Gopa Trilochana  150000.00              Won            2012  \n",
       "1  Gopa Trilochana  744705.88              Won            2012  \n",
       "2   Russell Dahlen   60000.00             Lost            2011  \n",
       "3   Russell Dahlen   60000.00             Lost            2011  \n",
       "4   Russell Dahlen   80882.35             Lost            2011  "
      ]
     },
     "execution_count": 40,
     "metadata": {},
     "output_type": "execute_result"
    }
   ],
   "source": [
    "newdata.head()"
   ]
  },
  {
   "cell_type": "code",
   "execution_count": 41,
   "id": "0140d31f",
   "metadata": {
    "ExecuteTime": {
     "end_time": "2025-01-30T12:21:12.598664Z",
     "start_time": "2025-01-30T12:21:11.754163Z"
    }
   },
   "outputs": [
    {
     "data": {
      "image/png": "[encoded data removed]",
      "text/plain": [
       "<Figure size 640x480 with 1 Axes>"
      ]
     },
     "metadata": {},
     "output_type": "display_data"
    }
   ],
   "source": [
    "sns.histplot(newdata.Deal_Date_year, bins = 8)\n",
    "plt.show()"
   ]
  },
  {
   "cell_type": "code",
   "execution_count": 42,
   "id": "527c78e0",
   "metadata": {
    "ExecuteTime": {
     "end_time": "2025-01-30T12:21:12.699296Z",
     "start_time": "2025-01-30T12:21:12.665558Z"
    }
   },
   "outputs": [],
   "source": [
    "newdata['Deal_Date_month'] = newdata['Deal Date'].dt.month"
   ]
  },
  {
   "cell_type": "code",
   "execution_count": 43,
   "id": "709d2cce",
   "metadata": {
    "ExecuteTime": {
     "end_time": "2025-01-30T12:21:12.815210Z",
     "start_time": "2025-01-30T12:21:12.714865Z"
    }
   },
   "outputs": [
    {
     "data": {
      "text/html": [
       "<div>\n",
       "<style scoped>\n",
       "    .dataframe tbody tr th:only-of-type {\n",
       "        vertical-align: middle;\n",
       "    }\n",
       "\n",
       "    .dataframe tbody tr th {\n",
       "        vertical-align: top;\n",
       "    }\n",
       "\n",
       "    .dataframe thead th {\n",
       "        text-align: right;\n",
       "    }\n",
       "</style>\n",
       "<table border=\"1\" class=\"dataframe\">\n",
       "  <thead>\n",
       "    <tr style=\"text-align: right;\">\n",
       "      <th></th>\n",
       "      <th>Client Category</th>\n",
       "      <th>Solution Type</th>\n",
       "      <th>Deal Date</th>\n",
       "      <th>Sector</th>\n",
       "      <th>Location</th>\n",
       "      <th>VP Name</th>\n",
       "      <th>Manager Name</th>\n",
       "      <th>Deal Cost</th>\n",
       "      <th>Deal Status Code</th>\n",
       "      <th>Deal_Date_year</th>\n",
       "      <th>Deal_Date_month</th>\n",
       "    </tr>\n",
       "  </thead>\n",
       "  <tbody>\n",
       "    <tr>\n",
       "      <th>0</th>\n",
       "      <td>Telecom</td>\n",
       "      <td>Solution 7</td>\n",
       "      <td>2012-03-27</td>\n",
       "      <td>Sector 24</td>\n",
       "      <td>L5</td>\n",
       "      <td>Ekta Zutshi</td>\n",
       "      <td>Gopa Trilochana</td>\n",
       "      <td>150000.00</td>\n",
       "      <td>Won</td>\n",
       "      <td>2012</td>\n",
       "      <td>3</td>\n",
       "    </tr>\n",
       "    <tr>\n",
       "      <th>1</th>\n",
       "      <td>Telecom</td>\n",
       "      <td>Solution 7</td>\n",
       "      <td>2012-09-25</td>\n",
       "      <td>Sector 24</td>\n",
       "      <td>L5</td>\n",
       "      <td>Ekta Zutshi</td>\n",
       "      <td>Gopa Trilochana</td>\n",
       "      <td>744705.88</td>\n",
       "      <td>Won</td>\n",
       "      <td>2012</td>\n",
       "      <td>9</td>\n",
       "    </tr>\n",
       "    <tr>\n",
       "      <th>2</th>\n",
       "      <td>Internal</td>\n",
       "      <td>Solution 59</td>\n",
       "      <td>2011-08-01</td>\n",
       "      <td>Sector 20</td>\n",
       "      <td>Others</td>\n",
       "      <td>Ekta Zutshi</td>\n",
       "      <td>Russell Dahlen</td>\n",
       "      <td>60000.00</td>\n",
       "      <td>Lost</td>\n",
       "      <td>2011</td>\n",
       "      <td>8</td>\n",
       "    </tr>\n",
       "    <tr>\n",
       "      <th>3</th>\n",
       "      <td>Internal</td>\n",
       "      <td>Solution 59</td>\n",
       "      <td>2011-04-28</td>\n",
       "      <td>Sector 20</td>\n",
       "      <td>Others</td>\n",
       "      <td>Ekta Zutshi</td>\n",
       "      <td>Russell Dahlen</td>\n",
       "      <td>60000.00</td>\n",
       "      <td>Lost</td>\n",
       "      <td>2011</td>\n",
       "      <td>4</td>\n",
       "    </tr>\n",
       "    <tr>\n",
       "      <th>4</th>\n",
       "      <td>Internal</td>\n",
       "      <td>Solution 32</td>\n",
       "      <td>2011-06-03</td>\n",
       "      <td>Sector 20</td>\n",
       "      <td>Others</td>\n",
       "      <td>Ekta Zutshi</td>\n",
       "      <td>Russell Dahlen</td>\n",
       "      <td>80882.35</td>\n",
       "      <td>Lost</td>\n",
       "      <td>2011</td>\n",
       "      <td>6</td>\n",
       "    </tr>\n",
       "  </tbody>\n",
       "</table>\n",
       "</div>"
      ],
      "text/plain": [
       "  Client Category Solution Type  Deal Date     Sector Location      VP Name  \\\n",
       "0         Telecom    Solution 7 2012-03-27  Sector 24       L5  Ekta Zutshi   \n",
       "1         Telecom    Solution 7 2012-09-25  Sector 24       L5  Ekta Zutshi   \n",
       "2        Internal   Solution 59 2011-08-01  Sector 20   Others  Ekta Zutshi   \n",
       "3        Internal   Solution 59 2011-04-28  Sector 20   Others  Ekta Zutshi   \n",
       "4        Internal   Solution 32 2011-06-03  Sector 20   Others  Ekta Zutshi   \n",
       "\n",
       "      Manager Name  Deal Cost Deal Status Code  Deal_Date_year  \\\n",
       "0  Gopa Trilochana  150000.00              Won            2012   \n",
       "1  Gopa Trilochana  744705.88              Won            2012   \n",
       "2   Russell Dahlen   60000.00             Lost            2011   \n",
       "3   Russell Dahlen   60000.00             Lost            2011   \n",
       "4   Russell Dahlen   80882.35             Lost            2011   \n",
       "\n",
       "   Deal_Date_month  \n",
       "0                3  \n",
       "1                9  \n",
       "2                8  \n",
       "3                4  \n",
       "4                6  "
      ]
     },
     "execution_count": 43,
     "metadata": {},
     "output_type": "execute_result"
    }
   ],
   "source": [
    "newdata.head()"
   ]
  },
  {
   "cell_type": "code",
   "execution_count": 44,
   "id": "a1ea5450",
   "metadata": {
    "ExecuteTime": {
     "end_time": "2025-01-30T12:21:13.751654Z",
     "start_time": "2025-01-30T12:21:12.826647Z"
    }
   },
   "outputs": [
    {
     "data": {
      "image/png": "[encoded data removed]",
      "text/plain": [
       "<Figure size 640x480 with 1 Axes>"
      ]
     },
     "metadata": {},
     "output_type": "display_data"
    }
   ],
   "source": [
    "sns.histplot(newdata.Deal_Date_month, bins = 12)\n",
    "plt.show()"
   ]
  },
  {
   "cell_type": "code",
   "execution_count": 45,
   "id": "8bb6a208",
   "metadata": {
    "ExecuteTime": {
     "end_time": "2025-01-30T12:21:13.805581Z",
     "start_time": "2025-01-30T12:21:13.765560Z"
    }
   },
   "outputs": [],
   "source": [
    "newdata['Deal_Date_quarter'] = newdata['Deal Date'].dt.quarter"
   ]
  },
  {
   "cell_type": "code",
   "execution_count": 46,
   "id": "a7e8b6dc",
   "metadata": {
    "ExecuteTime": {
     "end_time": "2025-01-30T12:21:14.398719Z",
     "start_time": "2025-01-30T12:21:13.820106Z"
    }
   },
   "outputs": [
    {
     "data": {
      "image/png": "[encoded data removed]",
      "text/plain": [
       "<Figure size 640x480 with 1 Axes>"
      ]
     },
     "metadata": {},
     "output_type": "display_data"
    }
   ],
   "source": [
    "sns.histplot(newdata.Deal_Date_quarter, bins = 4)\n",
    "plt.show()"
   ]
  },
  {
   "cell_type": "code",
   "execution_count": 47,
   "id": "aa74e975",
   "metadata": {
    "ExecuteTime": {
     "end_time": "2025-01-30T12:21:25.191567Z",
     "start_time": "2025-01-30T12:21:14.413828Z"
    }
   },
   "outputs": [
    {
     "data": {
      "text/plain": [
       "<Axes: >"
      ]
     },
     "execution_count": 47,
     "metadata": {},
     "output_type": "execute_result"
    },
    {
     "data": {
      "image/png": "[encoded data removed]",
      "text/plain": [
       "<Figure size 640x480 with 2 Axes>"
      ]
     },
     "metadata": {},
     "output_type": "display_data"
    }
   ],
   "source": [
    "sns.heatmap(newdata.select_dtypes(include='number').corr(), annot=True, cmap='rainbow')"
   ]
  },
  {
   "cell_type": "code",
   "execution_count": 48,
   "id": "416b7752",
   "metadata": {
    "ExecuteTime": {
     "end_time": "2025-01-30T12:21:25.199690Z",
     "start_time": "2025-01-30T12:21:25.199690Z"
    }
   },
   "outputs": [
    {
     "data": {
      "text/html": [
       "<div>\n",
       "<style scoped>\n",
       "    .dataframe tbody tr th:only-of-type {\n",
       "        vertical-align: middle;\n",
       "    }\n",
       "\n",
       "    .dataframe tbody tr th {\n",
       "        vertical-align: top;\n",
       "    }\n",
       "\n",
       "    .dataframe thead th {\n",
       "        text-align: right;\n",
       "    }\n",
       "</style>\n",
       "<table border=\"1\" class=\"dataframe\">\n",
       "  <thead>\n",
       "    <tr style=\"text-align: right;\">\n",
       "      <th></th>\n",
       "      <th>Client Category</th>\n",
       "      <th>Solution Type</th>\n",
       "      <th>Deal Date</th>\n",
       "      <th>Sector</th>\n",
       "      <th>Location</th>\n",
       "      <th>VP Name</th>\n",
       "      <th>Manager Name</th>\n",
       "      <th>Deal Cost</th>\n",
       "      <th>Deal Status Code</th>\n",
       "      <th>Deal_Date_year</th>\n",
       "      <th>Deal_Date_month</th>\n",
       "      <th>Deal_Date_quarter</th>\n",
       "    </tr>\n",
       "  </thead>\n",
       "  <tbody>\n",
       "    <tr>\n",
       "      <th>0</th>\n",
       "      <td>Telecom</td>\n",
       "      <td>Solution 7</td>\n",
       "      <td>2012-03-27</td>\n",
       "      <td>Sector 24</td>\n",
       "      <td>L5</td>\n",
       "      <td>Ekta Zutshi</td>\n",
       "      <td>Gopa Trilochana</td>\n",
       "      <td>150000.00</td>\n",
       "      <td>Won</td>\n",
       "      <td>2012</td>\n",
       "      <td>3</td>\n",
       "      <td>1</td>\n",
       "    </tr>\n",
       "    <tr>\n",
       "      <th>1</th>\n",
       "      <td>Telecom</td>\n",
       "      <td>Solution 7</td>\n",
       "      <td>2012-09-25</td>\n",
       "      <td>Sector 24</td>\n",
       "      <td>L5</td>\n",
       "      <td>Ekta Zutshi</td>\n",
       "      <td>Gopa Trilochana</td>\n",
       "      <td>744705.88</td>\n",
       "      <td>Won</td>\n",
       "      <td>2012</td>\n",
       "      <td>9</td>\n",
       "      <td>3</td>\n",
       "    </tr>\n",
       "    <tr>\n",
       "      <th>2</th>\n",
       "      <td>Internal</td>\n",
       "      <td>Solution 59</td>\n",
       "      <td>2011-08-01</td>\n",
       "      <td>Sector 20</td>\n",
       "      <td>Others</td>\n",
       "      <td>Ekta Zutshi</td>\n",
       "      <td>Russell Dahlen</td>\n",
       "      <td>60000.00</td>\n",
       "      <td>Lost</td>\n",
       "      <td>2011</td>\n",
       "      <td>8</td>\n",
       "      <td>3</td>\n",
       "    </tr>\n",
       "    <tr>\n",
       "      <th>3</th>\n",
       "      <td>Internal</td>\n",
       "      <td>Solution 59</td>\n",
       "      <td>2011-04-28</td>\n",
       "      <td>Sector 20</td>\n",
       "      <td>Others</td>\n",
       "      <td>Ekta Zutshi</td>\n",
       "      <td>Russell Dahlen</td>\n",
       "      <td>60000.00</td>\n",
       "      <td>Lost</td>\n",
       "      <td>2011</td>\n",
       "      <td>4</td>\n",
       "      <td>2</td>\n",
       "    </tr>\n",
       "    <tr>\n",
       "      <th>4</th>\n",
       "      <td>Internal</td>\n",
       "      <td>Solution 32</td>\n",
       "      <td>2011-06-03</td>\n",
       "      <td>Sector 20</td>\n",
       "      <td>Others</td>\n",
       "      <td>Ekta Zutshi</td>\n",
       "      <td>Russell Dahlen</td>\n",
       "      <td>80882.35</td>\n",
       "      <td>Lost</td>\n",
       "      <td>2011</td>\n",
       "      <td>6</td>\n",
       "      <td>2</td>\n",
       "    </tr>\n",
       "  </tbody>\n",
       "</table>\n",
       "</div>"
      ],
      "text/plain": [
       "  Client Category Solution Type  Deal Date     Sector Location      VP Name  \\\n",
       "0         Telecom    Solution 7 2012-03-27  Sector 24       L5  Ekta Zutshi   \n",
       "1         Telecom    Solution 7 2012-09-25  Sector 24       L5  Ekta Zutshi   \n",
       "2        Internal   Solution 59 2011-08-01  Sector 20   Others  Ekta Zutshi   \n",
       "3        Internal   Solution 59 2011-04-28  Sector 20   Others  Ekta Zutshi   \n",
       "4        Internal   Solution 32 2011-06-03  Sector 20   Others  Ekta Zutshi   \n",
       "\n",
       "      Manager Name  Deal Cost Deal Status Code  Deal_Date_year  \\\n",
       "0  Gopa Trilochana  150000.00              Won            2012   \n",
       "1  Gopa Trilochana  744705.88              Won            2012   \n",
       "2   Russell Dahlen   60000.00             Lost            2011   \n",
       "3   Russell Dahlen   60000.00             Lost            2011   \n",
       "4   Russell Dahlen   80882.35             Lost            2011   \n",
       "\n",
       "   Deal_Date_month  Deal_Date_quarter  \n",
       "0                3                  1  \n",
       "1                9                  3  \n",
       "2                8                  3  \n",
       "3                4                  2  \n",
       "4                6                  2  "
      ]
     },
     "execution_count": 48,
     "metadata": {},
     "output_type": "execute_result"
    }
   ],
   "source": [
    "newdata.head()"
   ]
  },
  {
   "cell_type": "code",
   "execution_count": 49,
   "id": "5bf28d04",
   "metadata": {
    "ExecuteTime": {
     "end_time": "2025-01-30T12:21:25.205734Z",
     "start_time": "2025-01-30T12:21:25.205734Z"
    }
   },
   "outputs": [
    {
     "data": {
      "text/plain": [
       "Client Category\n",
       "Others                   1842\n",
       "Internal                 1454\n",
       "Services_based           1202\n",
       "Tech                      913\n",
       "Domestic Public Bank      419\n",
       "International Bank        376\n",
       "Consulting                352\n",
       "Finance                   339\n",
       "Telecom                   327\n",
       "Power ind                 264\n",
       "Domestic Private Bank     262\n",
       "Insurance                 247\n",
       "Consumer Good             185\n",
       "Automobiles               178\n",
       "Infrastructure            152\n",
       "Domestic Bank             134\n",
       "Retail_market             126\n",
       "Govt                      121\n",
       "Hospitality               119\n",
       "Manufacturing             117\n",
       "Pharma                    110\n",
       "Healthcare                 99\n",
       "Electronics                81\n",
       "Media_Journal              71\n",
       "Industries                 66\n",
       "Research Development       63\n",
       "Energy                     57\n",
       "Knowledge                  50\n",
       "Management                 43\n",
       "Govt Bank Special          41\n",
       "Payment                    40\n",
       "Energy                     37\n",
       "e-commerce                 32\n",
       "Airpline                   27\n",
       "Holding                    25\n",
       "International Org          25\n",
       "Logistics                  20\n",
       "Real Estate                19\n",
       "Share_market               14\n",
       "Tax_audit                   7\n",
       "Medical                     5\n",
       "Name: count, dtype: int64"
      ]
     },
     "execution_count": 49,
     "metadata": {},
     "output_type": "execute_result"
    }
   ],
   "source": [
    "newdata['Client Category'].value_counts()"
   ]
  },
  {
   "cell_type": "code",
   "execution_count": 50,
   "id": "82ea2809",
   "metadata": {
    "ExecuteTime": {
     "end_time": "2025-01-30T12:21:25.213832Z",
     "start_time": "2025-01-30T12:21:25.213832Z"
    }
   },
   "outputs": [
    {
     "data": {
      "text/plain": [
       "Index(['Client Category', 'Solution Type', 'Deal Date', 'Sector', 'Location',\n",
       "       'VP Name', 'Manager Name', 'Deal Cost', 'Deal Status Code',\n",
       "       'Deal_Date_year', 'Deal_Date_month', 'Deal_Date_quarter'],\n",
       "      dtype='object')"
      ]
     },
     "execution_count": 50,
     "metadata": {},
     "output_type": "execute_result"
    }
   ],
   "source": [
    "newdata.columns"
   ]
  },
  {
   "cell_type": "code",
   "execution_count": 51,
   "id": "1d648c4b",
   "metadata": {
    "ExecuteTime": {
     "end_time": "2025-01-30T12:21:25.223731Z",
     "start_time": "2025-01-30T12:21:25.223731Z"
    }
   },
   "outputs": [],
   "source": [
    "newdata = newdata.drop(['Deal Date'], axis=1)"
   ]
  },
  {
   "cell_type": "code",
   "execution_count": 52,
   "id": "98de1f32",
   "metadata": {
    "ExecuteTime": {
     "end_time": "2025-01-30T12:21:25.235733Z",
     "start_time": "2025-01-30T12:21:25.235733Z"
    }
   },
   "outputs": [],
   "source": [
    "newdata['Client Category'] = newdata['Client Category'].astype('category')\n",
    "newdata['Client Category'] = newdata['Client Category'].cat.codes\n",
    "\n",
    "newdata['Solution Type'] = newdata['Solution Type'].astype('category')\n",
    "newdata['Solution Type'] = newdata['Solution Type'].cat.codes\n",
    "\n",
    "newdata['Sector'] = newdata['Sector'].astype('category')\n",
    "newdata['Sector'] = newdata['Sector'].cat.codes\n",
    "\n",
    "newdata['Location'] = newdata['Location'].astype('category')\n",
    "newdata['Location'] = newdata['Location'].cat.codes\n",
    "\n",
    "newdata['VP Name'] = newdata['VP Name'].astype('category')\n",
    "newdata['VP Name'] = newdata['VP Name'].cat.codes\n",
    "\n",
    "newdata['Manager Name'] = newdata['Manager Name'].astype('category')\n",
    "newdata['Manager Name'] = newdata['Manager Name'].cat.codes\n",
    "\n",
    "newdata['Deal Status Code'] = newdata['Deal Status Code'].astype('category')\n",
    "newdata['Deal Status Code'] = newdata['Deal Status Code'].cat.codes"
   ]
  },
  {
   "cell_type": "code",
   "execution_count": 53,
   "id": "8b98dd1b",
   "metadata": {
    "ExecuteTime": {
     "end_time": "2025-01-30T12:21:25.243914Z",
     "start_time": "2025-01-30T12:21:25.243914Z"
    }
   },
   "outputs": [
    {
     "data": {
      "text/html": [
       "<div>\n",
       "<style scoped>\n",
       "    .dataframe tbody tr th:only-of-type {\n",
       "        vertical-align: middle;\n",
       "    }\n",
       "\n",
       "    .dataframe tbody tr th {\n",
       "        vertical-align: top;\n",
       "    }\n",
       "\n",
       "    .dataframe thead th {\n",
       "        text-align: right;\n",
       "    }\n",
       "</style>\n",
       "<table border=\"1\" class=\"dataframe\">\n",
       "  <thead>\n",
       "    <tr style=\"text-align: right;\">\n",
       "      <th></th>\n",
       "      <th>Client Category</th>\n",
       "      <th>Solution Type</th>\n",
       "      <th>Sector</th>\n",
       "      <th>Location</th>\n",
       "      <th>VP Name</th>\n",
       "      <th>Manager Name</th>\n",
       "      <th>Deal Cost</th>\n",
       "      <th>Deal Status Code</th>\n",
       "      <th>Deal_Date_year</th>\n",
       "      <th>Deal_Date_month</th>\n",
       "      <th>Deal_Date_quarter</th>\n",
       "    </tr>\n",
       "  </thead>\n",
       "  <tbody>\n",
       "    <tr>\n",
       "      <th>0</th>\n",
       "      <td>39</td>\n",
       "      <td>64</td>\n",
       "      <td>16</td>\n",
       "      <td>7</td>\n",
       "      <td>6</td>\n",
       "      <td>82</td>\n",
       "      <td>150000.00</td>\n",
       "      <td>1</td>\n",
       "      <td>2012</td>\n",
       "      <td>3</td>\n",
       "      <td>1</td>\n",
       "    </tr>\n",
       "    <tr>\n",
       "      <th>1</th>\n",
       "      <td>39</td>\n",
       "      <td>64</td>\n",
       "      <td>16</td>\n",
       "      <td>7</td>\n",
       "      <td>6</td>\n",
       "      <td>82</td>\n",
       "      <td>744705.88</td>\n",
       "      <td>1</td>\n",
       "      <td>2012</td>\n",
       "      <td>9</td>\n",
       "      <td>3</td>\n",
       "    </tr>\n",
       "    <tr>\n",
       "      <th>2</th>\n",
       "      <td>19</td>\n",
       "      <td>54</td>\n",
       "      <td>12</td>\n",
       "      <td>12</td>\n",
       "      <td>6</td>\n",
       "      <td>183</td>\n",
       "      <td>60000.00</td>\n",
       "      <td>0</td>\n",
       "      <td>2011</td>\n",
       "      <td>8</td>\n",
       "      <td>3</td>\n",
       "    </tr>\n",
       "    <tr>\n",
       "      <th>3</th>\n",
       "      <td>19</td>\n",
       "      <td>54</td>\n",
       "      <td>12</td>\n",
       "      <td>12</td>\n",
       "      <td>6</td>\n",
       "      <td>183</td>\n",
       "      <td>60000.00</td>\n",
       "      <td>0</td>\n",
       "      <td>2011</td>\n",
       "      <td>4</td>\n",
       "      <td>2</td>\n",
       "    </tr>\n",
       "    <tr>\n",
       "      <th>4</th>\n",
       "      <td>19</td>\n",
       "      <td>25</td>\n",
       "      <td>12</td>\n",
       "      <td>12</td>\n",
       "      <td>6</td>\n",
       "      <td>183</td>\n",
       "      <td>80882.35</td>\n",
       "      <td>0</td>\n",
       "      <td>2011</td>\n",
       "      <td>6</td>\n",
       "      <td>2</td>\n",
       "    </tr>\n",
       "  </tbody>\n",
       "</table>\n",
       "</div>"
      ],
      "text/plain": [
       "   Client Category  Solution Type  Sector  Location  VP Name  Manager Name  \\\n",
       "0               39             64      16         7        6            82   \n",
       "1               39             64      16         7        6            82   \n",
       "2               19             54      12        12        6           183   \n",
       "3               19             54      12        12        6           183   \n",
       "4               19             25      12        12        6           183   \n",
       "\n",
       "   Deal Cost  Deal Status Code  Deal_Date_year  Deal_Date_month  \\\n",
       "0  150000.00                 1            2012                3   \n",
       "1  744705.88                 1            2012                9   \n",
       "2   60000.00                 0            2011                8   \n",
       "3   60000.00                 0            2011                4   \n",
       "4   80882.35                 0            2011                6   \n",
       "\n",
       "   Deal_Date_quarter  \n",
       "0                  1  \n",
       "1                  3  \n",
       "2                  3  \n",
       "3                  2  \n",
       "4                  2  "
      ]
     },
     "execution_count": 53,
     "metadata": {},
     "output_type": "execute_result"
    }
   ],
   "source": [
    "newdata.head()"
   ]
  },
  {
   "cell_type": "code",
   "execution_count": 54,
   "id": "cf2d943f",
   "metadata": {
    "ExecuteTime": {
     "end_time": "2025-01-30T12:21:25.249751Z",
     "start_time": "2025-01-30T12:21:25.249751Z"
    }
   },
   "outputs": [],
   "source": [
    "newdata = newdata.iloc[:,0:8]"
   ]
  },
  {
   "cell_type": "code",
   "execution_count": 55,
   "id": "b2196581",
   "metadata": {
    "ExecuteTime": {
     "end_time": "2025-01-30T12:21:25.255825Z",
     "start_time": "2025-01-30T12:21:25.255825Z"
    }
   },
   "outputs": [
    {
     "data": {
      "text/html": [
       "<div>\n",
       "<style scoped>\n",
       "    .dataframe tbody tr th:only-of-type {\n",
       "        vertical-align: middle;\n",
       "    }\n",
       "\n",
       "    .dataframe tbody tr th {\n",
       "        vertical-align: top;\n",
       "    }\n",
       "\n",
       "    .dataframe thead th {\n",
       "        text-align: right;\n",
       "    }\n",
       "</style>\n",
       "<table border=\"1\" class=\"dataframe\">\n",
       "  <thead>\n",
       "    <tr style=\"text-align: right;\">\n",
       "      <th></th>\n",
       "      <th>Client Category</th>\n",
       "      <th>Solution Type</th>\n",
       "      <th>Sector</th>\n",
       "      <th>Location</th>\n",
       "      <th>VP Name</th>\n",
       "      <th>Manager Name</th>\n",
       "      <th>Deal Cost</th>\n",
       "      <th>Deal Status Code</th>\n",
       "    </tr>\n",
       "  </thead>\n",
       "  <tbody>\n",
       "    <tr>\n",
       "      <th>0</th>\n",
       "      <td>39</td>\n",
       "      <td>64</td>\n",
       "      <td>16</td>\n",
       "      <td>7</td>\n",
       "      <td>6</td>\n",
       "      <td>82</td>\n",
       "      <td>150000.00</td>\n",
       "      <td>1</td>\n",
       "    </tr>\n",
       "    <tr>\n",
       "      <th>1</th>\n",
       "      <td>39</td>\n",
       "      <td>64</td>\n",
       "      <td>16</td>\n",
       "      <td>7</td>\n",
       "      <td>6</td>\n",
       "      <td>82</td>\n",
       "      <td>744705.88</td>\n",
       "      <td>1</td>\n",
       "    </tr>\n",
       "    <tr>\n",
       "      <th>2</th>\n",
       "      <td>19</td>\n",
       "      <td>54</td>\n",
       "      <td>12</td>\n",
       "      <td>12</td>\n",
       "      <td>6</td>\n",
       "      <td>183</td>\n",
       "      <td>60000.00</td>\n",
       "      <td>0</td>\n",
       "    </tr>\n",
       "    <tr>\n",
       "      <th>3</th>\n",
       "      <td>19</td>\n",
       "      <td>54</td>\n",
       "      <td>12</td>\n",
       "      <td>12</td>\n",
       "      <td>6</td>\n",
       "      <td>183</td>\n",
       "      <td>60000.00</td>\n",
       "      <td>0</td>\n",
       "    </tr>\n",
       "    <tr>\n",
       "      <th>4</th>\n",
       "      <td>19</td>\n",
       "      <td>25</td>\n",
       "      <td>12</td>\n",
       "      <td>12</td>\n",
       "      <td>6</td>\n",
       "      <td>183</td>\n",
       "      <td>80882.35</td>\n",
       "      <td>0</td>\n",
       "    </tr>\n",
       "  </tbody>\n",
       "</table>\n",
       "</div>"
      ],
      "text/plain": [
       "   Client Category  Solution Type  Sector  Location  VP Name  Manager Name  \\\n",
       "0               39             64      16         7        6            82   \n",
       "1               39             64      16         7        6            82   \n",
       "2               19             54      12        12        6           183   \n",
       "3               19             54      12        12        6           183   \n",
       "4               19             25      12        12        6           183   \n",
       "\n",
       "   Deal Cost  Deal Status Code  \n",
       "0  150000.00                 1  \n",
       "1  744705.88                 1  \n",
       "2   60000.00                 0  \n",
       "3   60000.00                 0  \n",
       "4   80882.35                 0  "
      ]
     },
     "execution_count": 55,
     "metadata": {},
     "output_type": "execute_result"
    }
   ],
   "source": [
    "newdata.head()"
   ]
  },
  {
   "cell_type": "code",
   "execution_count": 56,
   "id": "4989f393",
   "metadata": {
    "ExecuteTime": {
     "end_time": "2025-01-30T12:21:25.263663Z",
     "start_time": "2025-01-30T12:21:25.263663Z"
    }
   },
   "outputs": [],
   "source": [
    "# split the data into x and y\n",
    "x = newdata.iloc[:,0:-1].values\n",
    "y = newdata['Deal Status Code'].values"
   ]
  },
  {
   "cell_type": "code",
   "execution_count": 58,
   "id": "2c02f0e4",
   "metadata": {
    "ExecuteTime": {
     "end_time": "2025-01-30T12:21:25.285703Z",
     "start_time": "2025-01-30T12:21:25.285703Z"
    }
   },
   "outputs": [],
   "source": [
    "# Split the data into training and test\n",
    "from sklearn.model_selection import train_test_split\n",
    "x_train, x_test, y_train, y_test = train_test_split(x, y, test_size=0.80, random_state=101)"
   ]
  },
  {
   "cell_type": "code",
   "execution_count": 59,
   "id": "54c4f4de-66d4-43ca-96b7-754951a8f008",
   "metadata": {},
   "outputs": [
    {
     "data": {
      "text/plain": [
       "((2012, 7), (8049, 7), (2012,), (8049,))"
      ]
     },
     "execution_count": 59,
     "metadata": {},
     "output_type": "execute_result"
    }
   ],
   "source": [
    "x_train.shape, x_test.shape, y_train.shape, y_test.shape"
   ]
  },
  {
   "cell_type": "code",
   "execution_count": 60,
   "id": "0274c0af",
   "metadata": {
    "ExecuteTime": {
     "end_time": "2025-01-30T12:21:25.273814Z",
     "start_time": "2025-01-30T12:21:25.273814Z"
    }
   },
   "outputs": [],
   "source": [
    "from sklearn.preprocessing import StandardScaler\n",
    "sc = StandardScaler()\n",
    "x_train = sc.fit_transform(x_train)\n",
    "x_test = sc.transform(x_test)"
   ]
  },
  {
   "cell_type": "markdown",
   "id": "64f8c291",
   "metadata": {},
   "source": [
    "# Deep Neural Network"
   ]
  },
  {
   "cell_type": "code",
   "execution_count": 62,
   "id": "7a5df6ee",
   "metadata": {
    "ExecuteTime": {
     "end_time": "2025-01-30T12:21:25.295582Z",
     "start_time": "2025-01-30T12:21:25.295582Z"
    },
    "scrolled": true
   },
   "outputs": [
    {
     "name": "stdout",
     "output_type": "stream",
     "text": [
      "Epoch 1/100\n",
      "\u001b[1m63/63\u001b[0m \u001b[32m━━━━━━━━━━━━━━━━━━━━\u001b[0m\u001b[37m\u001b[0m \u001b[1m2s\u001b[0m 9ms/step - accuracy: 0.5599 - loss: 0.6779 - val_accuracy: 0.6305 - val_loss: 0.6630\n",
      "Epoch 2/100\n",
      "\u001b[1m63/63\u001b[0m \u001b[32m━━━━━━━━━━━━━━━━━━━━\u001b[0m\u001b[37m\u001b[0m \u001b[1m1s\u001b[0m 23ms/step - accuracy: 0.6260 - loss: 0.6607 - val_accuracy: 0.6305 - val_loss: 0.6544\n",
      "Epoch 3/100\n",
      "\u001b[1m63/63\u001b[0m \u001b[32m━━━━━━━━━━━━━━━━━━━━\u001b[0m\u001b[37m\u001b[0m \u001b[1m1s\u001b[0m 16ms/step - accuracy: 0.6145 - loss: 0.6599 - val_accuracy: 0.6305 - val_loss: 0.6518\n",
      "Epoch 4/100\n",
      "\u001b[1m63/63\u001b[0m \u001b[32m━━━━━━━━━━━━━━━━━━━━\u001b[0m\u001b[37m\u001b[0m \u001b[1m1s\u001b[0m 22ms/step - accuracy: 0.6024 - loss: 0.6611 - val_accuracy: 0.6300 - val_loss: 0.6521\n",
      "Epoch 5/100\n",
      "\u001b[1m63/63\u001b[0m \u001b[32m━━━━━━━━━━━━━━━━━━━━\u001b[0m\u001b[37m\u001b[0m \u001b[1m1s\u001b[0m 18ms/step - accuracy: 0.6271 - loss: 0.6457 - val_accuracy: 0.6264 - val_loss: 0.6526\n",
      "Epoch 6/100\n",
      "\u001b[1m63/63\u001b[0m \u001b[32m━━━━━━━━━━━━━━━━━━━━\u001b[0m\u001b[37m\u001b[0m \u001b[1m1s\u001b[0m 19ms/step - accuracy: 0.6218 - loss: 0.6490 - val_accuracy: 0.6234 - val_loss: 0.6477\n",
      "Epoch 7/100\n",
      "\u001b[1m63/63\u001b[0m \u001b[32m━━━━━━━━━━━━━━━━━━━━\u001b[0m\u001b[37m\u001b[0m \u001b[1m2s\u001b[0m 26ms/step - accuracy: 0.6238 - loss: 0.6422 - val_accuracy: 0.6291 - val_loss: 0.6463\n",
      "Epoch 8/100\n",
      "\u001b[1m63/63\u001b[0m \u001b[32m━━━━━━━━━━━━━━━━━━━━\u001b[0m\u001b[37m\u001b[0m \u001b[1m1s\u001b[0m 16ms/step - accuracy: 0.6264 - loss: 0.6392 - val_accuracy: 0.6218 - val_loss: 0.6503\n",
      "Epoch 9/100\n",
      "\u001b[1m63/63\u001b[0m \u001b[32m━━━━━━━━━━━━━━━━━━━━\u001b[0m\u001b[37m\u001b[0m \u001b[1m1s\u001b[0m 8ms/step - accuracy: 0.6383 - loss: 0.6353 - val_accuracy: 0.6279 - val_loss: 0.6472\n",
      "Epoch 10/100\n",
      "\u001b[1m63/63\u001b[0m \u001b[32m━━━━━━━━━━━━━━━━━━━━\u001b[0m\u001b[37m\u001b[0m \u001b[1m0s\u001b[0m 6ms/step - accuracy: 0.6624 - loss: 0.6131 - val_accuracy: 0.6327 - val_loss: 0.6428\n",
      "Epoch 11/100\n",
      "\u001b[1m63/63\u001b[0m \u001b[32m━━━━━━━━━━━━━━━━━━━━\u001b[0m\u001b[37m\u001b[0m \u001b[1m0s\u001b[0m 6ms/step - accuracy: 0.6631 - loss: 0.6109 - val_accuracy: 0.6371 - val_loss: 0.6461\n",
      "Epoch 12/100\n",
      "\u001b[1m63/63\u001b[0m \u001b[32m━━━━━━━━━━━━━━━━━━━━\u001b[0m\u001b[37m\u001b[0m \u001b[1m0s\u001b[0m 6ms/step - accuracy: 0.6513 - loss: 0.6220 - val_accuracy: 0.6334 - val_loss: 0.6461\n",
      "Epoch 13/100\n",
      "\u001b[1m63/63\u001b[0m \u001b[32m━━━━━━━━━━━━━━━━━━━━\u001b[0m\u001b[37m\u001b[0m \u001b[1m0s\u001b[0m 6ms/step - accuracy: 0.6708 - loss: 0.6151 - val_accuracy: 0.6146 - val_loss: 0.6607\n",
      "Epoch 14/100\n",
      "\u001b[1m63/63\u001b[0m \u001b[32m━━━━━━━━━━━━━━━━━━━━\u001b[0m\u001b[37m\u001b[0m \u001b[1m0s\u001b[0m 7ms/step - accuracy: 0.6615 - loss: 0.6132 - val_accuracy: 0.6422 - val_loss: 0.6442\n",
      "Epoch 15/100\n",
      "\u001b[1m63/63\u001b[0m \u001b[32m━━━━━━━━━━━━━━━━━━━━\u001b[0m\u001b[37m\u001b[0m \u001b[1m0s\u001b[0m 6ms/step - accuracy: 0.6632 - loss: 0.6090 - val_accuracy: 0.6288 - val_loss: 0.6561\n",
      "Epoch 16/100\n",
      "\u001b[1m63/63\u001b[0m \u001b[32m━━━━━━━━━━━━━━━━━━━━\u001b[0m\u001b[37m\u001b[0m \u001b[1m0s\u001b[0m 6ms/step - accuracy: 0.6608 - loss: 0.6139 - val_accuracy: 0.6331 - val_loss: 0.6514\n",
      "Epoch 17/100\n",
      "\u001b[1m63/63\u001b[0m \u001b[32m━━━━━━━━━━━━━━━━━━━━\u001b[0m\u001b[37m\u001b[0m \u001b[1m0s\u001b[0m 6ms/step - accuracy: 0.6832 - loss: 0.5908 - val_accuracy: 0.6244 - val_loss: 0.6542\n",
      "Epoch 18/100\n",
      "\u001b[1m63/63\u001b[0m \u001b[32m━━━━━━━━━━━━━━━━━━━━\u001b[0m\u001b[37m\u001b[0m \u001b[1m0s\u001b[0m 6ms/step - accuracy: 0.6926 - loss: 0.5861 - val_accuracy: 0.6354 - val_loss: 0.6497\n",
      "Epoch 19/100\n",
      "\u001b[1m63/63\u001b[0m \u001b[32m━━━━━━━━━━━━━━━━━━━━\u001b[0m\u001b[37m\u001b[0m \u001b[1m0s\u001b[0m 6ms/step - accuracy: 0.6913 - loss: 0.5890 - val_accuracy: 0.6439 - val_loss: 0.6562\n",
      "Epoch 20/100\n",
      "\u001b[1m63/63\u001b[0m \u001b[32m━━━━━━━━━━━━━━━━━━━━\u001b[0m\u001b[37m\u001b[0m \u001b[1m0s\u001b[0m 7ms/step - accuracy: 0.7010 - loss: 0.5817 - val_accuracy: 0.5910 - val_loss: 0.6764\n",
      "Epoch 21/100\n",
      "\u001b[1m63/63\u001b[0m \u001b[32m━━━━━━━━━━━━━━━━━━━━\u001b[0m\u001b[37m\u001b[0m \u001b[1m1s\u001b[0m 21ms/step - accuracy: 0.7132 - loss: 0.5710 - val_accuracy: 0.6327 - val_loss: 0.6584\n",
      "Epoch 22/100\n",
      "\u001b[1m63/63\u001b[0m \u001b[32m━━━━━━━━━━━━━━━━━━━━\u001b[0m\u001b[37m\u001b[0m \u001b[1m1s\u001b[0m 16ms/step - accuracy: 0.7118 - loss: 0.5637 - val_accuracy: 0.5879 - val_loss: 0.6843\n",
      "Epoch 23/100\n",
      "\u001b[1m63/63\u001b[0m \u001b[32m━━━━━━━━━━━━━━━━━━━━\u001b[0m\u001b[37m\u001b[0m \u001b[1m1s\u001b[0m 22ms/step - accuracy: 0.7079 - loss: 0.5632 - val_accuracy: 0.6388 - val_loss: 0.6612\n",
      "Epoch 24/100\n",
      "\u001b[1m63/63\u001b[0m \u001b[32m━━━━━━━━━━━━━━━━━━━━\u001b[0m\u001b[37m\u001b[0m \u001b[1m1s\u001b[0m 15ms/step - accuracy: 0.7344 - loss: 0.5513 - val_accuracy: 0.6458 - val_loss: 0.6819\n",
      "Epoch 25/100\n",
      "\u001b[1m63/63\u001b[0m \u001b[32m━━━━━━━━━━━━━━━━━━━━\u001b[0m\u001b[37m\u001b[0m \u001b[1m1s\u001b[0m 19ms/step - accuracy: 0.7400 - loss: 0.5438 - val_accuracy: 0.6386 - val_loss: 0.6718\n",
      "Epoch 26/100\n",
      "\u001b[1m63/63\u001b[0m \u001b[32m━━━━━━━━━━━━━━━━━━━━\u001b[0m\u001b[37m\u001b[0m \u001b[1m1s\u001b[0m 21ms/step - accuracy: 0.7268 - loss: 0.5383 - val_accuracy: 0.6208 - val_loss: 0.6689\n",
      "Epoch 27/100\n",
      "\u001b[1m63/63\u001b[0m \u001b[32m━━━━━━━━━━━━━━━━━━━━\u001b[0m\u001b[37m\u001b[0m \u001b[1m1s\u001b[0m 22ms/step - accuracy: 0.7252 - loss: 0.5407 - val_accuracy: 0.6222 - val_loss: 0.6742\n",
      "Epoch 28/100\n",
      "\u001b[1m63/63\u001b[0m \u001b[32m━━━━━━━━━━━━━━━━━━━━\u001b[0m\u001b[37m\u001b[0m \u001b[1m1s\u001b[0m 18ms/step - accuracy: 0.7446 - loss: 0.5229 - val_accuracy: 0.6289 - val_loss: 0.6717\n",
      "Epoch 29/100\n",
      "\u001b[1m63/63\u001b[0m \u001b[32m━━━━━━━━━━━━━━━━━━━━\u001b[0m\u001b[37m\u001b[0m \u001b[1m1s\u001b[0m 21ms/step - accuracy: 0.7320 - loss: 0.5239 - val_accuracy: 0.6223 - val_loss: 0.6801\n",
      "Epoch 30/100\n",
      "\u001b[1m63/63\u001b[0m \u001b[32m━━━━━━━━━━━━━━━━━━━━\u001b[0m\u001b[37m\u001b[0m \u001b[1m0s\u001b[0m 6ms/step - accuracy: 0.7274 - loss: 0.5217 - val_accuracy: 0.6449 - val_loss: 0.7093\n",
      "Epoch 31/100\n",
      "\u001b[1m63/63\u001b[0m \u001b[32m━━━━━━━━━━━━━━━━━━━━\u001b[0m\u001b[37m\u001b[0m \u001b[1m0s\u001b[0m 6ms/step - accuracy: 0.7155 - loss: 0.5451 - val_accuracy: 0.6288 - val_loss: 0.6838\n",
      "Epoch 32/100\n",
      "\u001b[1m63/63\u001b[0m \u001b[32m━━━━━━━━━━━━━━━━━━━━\u001b[0m\u001b[37m\u001b[0m \u001b[1m0s\u001b[0m 6ms/step - accuracy: 0.7510 - loss: 0.5055 - val_accuracy: 0.6154 - val_loss: 0.6908\n",
      "Epoch 33/100\n",
      "\u001b[1m63/63\u001b[0m \u001b[32m━━━━━━━━━━━━━━━━━━━━\u001b[0m\u001b[37m\u001b[0m \u001b[1m0s\u001b[0m 6ms/step - accuracy: 0.7528 - loss: 0.5001 - val_accuracy: 0.5990 - val_loss: 0.7174\n",
      "Epoch 34/100\n",
      "\u001b[1m63/63\u001b[0m \u001b[32m━━━━━━━━━━━━━━━━━━━━\u001b[0m\u001b[37m\u001b[0m \u001b[1m0s\u001b[0m 6ms/step - accuracy: 0.7561 - loss: 0.4973 - val_accuracy: 0.6375 - val_loss: 0.6886\n",
      "Epoch 35/100\n",
      "\u001b[1m63/63\u001b[0m \u001b[32m━━━━━━━━━━━━━━━━━━━━\u001b[0m\u001b[37m\u001b[0m \u001b[1m0s\u001b[0m 7ms/step - accuracy: 0.7446 - loss: 0.5041 - val_accuracy: 0.6416 - val_loss: 0.6998\n",
      "Epoch 36/100\n",
      "\u001b[1m63/63\u001b[0m \u001b[32m━━━━━━━━━━━━━━━━━━━━\u001b[0m\u001b[37m\u001b[0m \u001b[1m0s\u001b[0m 6ms/step - accuracy: 0.7651 - loss: 0.4851 - val_accuracy: 0.6345 - val_loss: 0.7063\n",
      "Epoch 37/100\n",
      "\u001b[1m63/63\u001b[0m \u001b[32m━━━━━━━━━━━━━━━━━━━━\u001b[0m\u001b[37m\u001b[0m \u001b[1m0s\u001b[0m 5ms/step - accuracy: 0.7592 - loss: 0.4841 - val_accuracy: 0.6073 - val_loss: 0.7173\n",
      "Epoch 38/100\n",
      "\u001b[1m63/63\u001b[0m \u001b[32m━━━━━━━━━━━━━━━━━━━━\u001b[0m\u001b[37m\u001b[0m \u001b[1m0s\u001b[0m 6ms/step - accuracy: 0.7683 - loss: 0.4610 - val_accuracy: 0.5910 - val_loss: 0.7341\n",
      "Epoch 39/100\n",
      "\u001b[1m63/63\u001b[0m \u001b[32m━━━━━━━━━━━━━━━━━━━━\u001b[0m\u001b[37m\u001b[0m \u001b[1m0s\u001b[0m 6ms/step - accuracy: 0.7726 - loss: 0.4636 - val_accuracy: 0.5732 - val_loss: 0.7617\n",
      "Epoch 40/100\n",
      "\u001b[1m63/63\u001b[0m \u001b[32m━━━━━━━━━━━━━━━━━━━━\u001b[0m\u001b[37m\u001b[0m \u001b[1m0s\u001b[0m 6ms/step - accuracy: 0.7839 - loss: 0.4682 - val_accuracy: 0.6350 - val_loss: 0.7154\n",
      "Epoch 41/100\n",
      "\u001b[1m63/63\u001b[0m \u001b[32m━━━━━━━━━━━━━━━━━━━━\u001b[0m\u001b[37m\u001b[0m \u001b[1m0s\u001b[0m 7ms/step - accuracy: 0.7893 - loss: 0.4474 - val_accuracy: 0.6428 - val_loss: 0.7270\n",
      "Epoch 42/100\n",
      "\u001b[1m63/63\u001b[0m \u001b[32m━━━━━━━━━━━━━━━━━━━━\u001b[0m\u001b[37m\u001b[0m \u001b[1m0s\u001b[0m 7ms/step - accuracy: 0.8051 - loss: 0.4379 - val_accuracy: 0.6125 - val_loss: 0.7503\n",
      "Epoch 43/100\n",
      "\u001b[1m63/63\u001b[0m \u001b[32m━━━━━━━━━━━━━━━━━━━━\u001b[0m\u001b[37m\u001b[0m \u001b[1m1s\u001b[0m 8ms/step - accuracy: 0.7856 - loss: 0.4394 - val_accuracy: 0.6355 - val_loss: 0.7290\n",
      "Epoch 44/100\n",
      "\u001b[1m63/63\u001b[0m \u001b[32m━━━━━━━━━━━━━━━━━━━━\u001b[0m\u001b[37m\u001b[0m \u001b[1m1s\u001b[0m 9ms/step - accuracy: 0.7755 - loss: 0.4576 - val_accuracy: 0.6344 - val_loss: 0.7468\n",
      "Epoch 45/100\n",
      "\u001b[1m63/63\u001b[0m \u001b[32m━━━━━━━━━━━━━━━━━━━━\u001b[0m\u001b[37m\u001b[0m \u001b[1m1s\u001b[0m 9ms/step - accuracy: 0.7911 - loss: 0.4280 - val_accuracy: 0.6339 - val_loss: 0.7514\n",
      "Epoch 46/100\n",
      "\u001b[1m63/63\u001b[0m \u001b[32m━━━━━━━━━━━━━━━━━━━━\u001b[0m\u001b[37m\u001b[0m \u001b[1m0s\u001b[0m 6ms/step - accuracy: 0.7924 - loss: 0.4367 - val_accuracy: 0.6009 - val_loss: 0.7729\n",
      "Epoch 47/100\n",
      "\u001b[1m63/63\u001b[0m \u001b[32m━━━━━━━━━━━━━━━━━━━━\u001b[0m\u001b[37m\u001b[0m \u001b[1m0s\u001b[0m 7ms/step - accuracy: 0.7953 - loss: 0.4304 - val_accuracy: 0.6300 - val_loss: 0.7501\n",
      "Epoch 48/100\n",
      "\u001b[1m63/63\u001b[0m \u001b[32m━━━━━━━━━━━━━━━━━━━━\u001b[0m\u001b[37m\u001b[0m \u001b[1m0s\u001b[0m 7ms/step - accuracy: 0.8093 - loss: 0.4064 - val_accuracy: 0.6427 - val_loss: 0.7595\n",
      "Epoch 49/100\n",
      "\u001b[1m63/63\u001b[0m \u001b[32m━━━━━━━━━━━━━━━━━━━━\u001b[0m\u001b[37m\u001b[0m \u001b[1m1s\u001b[0m 12ms/step - accuracy: 0.8178 - loss: 0.4088 - val_accuracy: 0.6293 - val_loss: 0.7638\n",
      "Epoch 50/100\n",
      "\u001b[1m63/63\u001b[0m \u001b[32m━━━━━━━━━━━━━━━━━━━━\u001b[0m\u001b[37m\u001b[0m \u001b[1m1s\u001b[0m 20ms/step - accuracy: 0.8226 - loss: 0.3959 - val_accuracy: 0.6238 - val_loss: 0.7658\n",
      "Epoch 51/100\n",
      "\u001b[1m63/63\u001b[0m \u001b[32m━━━━━━━━━━━━━━━━━━━━\u001b[0m\u001b[37m\u001b[0m \u001b[1m1s\u001b[0m 16ms/step - accuracy: 0.8286 - loss: 0.3896 - val_accuracy: 0.6274 - val_loss: 0.7759\n",
      "Epoch 52/100\n",
      "\u001b[1m63/63\u001b[0m \u001b[32m━━━━━━━━━━━━━━━━━━━━\u001b[0m\u001b[37m\u001b[0m \u001b[1m1s\u001b[0m 13ms/step - accuracy: 0.8202 - loss: 0.3929 - val_accuracy: 0.6237 - val_loss: 0.7849\n",
      "Epoch 53/100\n",
      "\u001b[1m63/63\u001b[0m \u001b[32m━━━━━━━━━━━━━━━━━━━━\u001b[0m\u001b[37m\u001b[0m \u001b[1m1s\u001b[0m 20ms/step - accuracy: 0.8060 - loss: 0.4046 - val_accuracy: 0.6216 - val_loss: 0.7994\n",
      "Epoch 54/100\n",
      "\u001b[1m63/63\u001b[0m \u001b[32m━━━━━━━━━━━━━━━━━━━━\u001b[0m\u001b[37m\u001b[0m \u001b[1m1s\u001b[0m 16ms/step - accuracy: 0.8293 - loss: 0.3854 - val_accuracy: 0.6342 - val_loss: 0.7871\n",
      "Epoch 55/100\n",
      "\u001b[1m63/63\u001b[0m \u001b[32m━━━━━━━━━━━━━━━━━━━━\u001b[0m\u001b[37m\u001b[0m \u001b[1m1s\u001b[0m 16ms/step - accuracy: 0.8281 - loss: 0.3716 - val_accuracy: 0.6419 - val_loss: 0.8169\n",
      "Epoch 56/100\n",
      "\u001b[1m63/63\u001b[0m \u001b[32m━━━━━━━━━━━━━━━━━━━━\u001b[0m\u001b[37m\u001b[0m \u001b[1m0s\u001b[0m 7ms/step - accuracy: 0.8076 - loss: 0.3869 - val_accuracy: 0.6231 - val_loss: 0.8186\n",
      "Epoch 57/100\n",
      "\u001b[1m63/63\u001b[0m \u001b[32m━━━━━━━━━━━━━━━━━━━━\u001b[0m\u001b[37m\u001b[0m \u001b[1m0s\u001b[0m 6ms/step - accuracy: 0.8486 - loss: 0.3491 - val_accuracy: 0.6344 - val_loss: 0.8248\n",
      "Epoch 58/100\n",
      "\u001b[1m63/63\u001b[0m \u001b[32m━━━━━━━━━━━━━━━━━━━━\u001b[0m\u001b[37m\u001b[0m \u001b[1m0s\u001b[0m 6ms/step - accuracy: 0.8419 - loss: 0.3422 - val_accuracy: 0.5983 - val_loss: 0.8625\n",
      "Epoch 59/100\n",
      "\u001b[1m63/63\u001b[0m \u001b[32m━━━━━━━━━━━━━━━━━━━━\u001b[0m\u001b[37m\u001b[0m \u001b[1m0s\u001b[0m 7ms/step - accuracy: 0.8235 - loss: 0.3711 - val_accuracy: 0.6311 - val_loss: 0.8378\n",
      "Epoch 60/100\n",
      "\u001b[1m63/63\u001b[0m \u001b[32m━━━━━━━━━━━━━━━━━━━━\u001b[0m\u001b[37m\u001b[0m \u001b[1m0s\u001b[0m 6ms/step - accuracy: 0.8577 - loss: 0.3410 - val_accuracy: 0.6079 - val_loss: 0.8571\n",
      "Epoch 61/100\n",
      "\u001b[1m63/63\u001b[0m \u001b[32m━━━━━━━━━━━━━━━━━━━━\u001b[0m\u001b[37m\u001b[0m \u001b[1m0s\u001b[0m 6ms/step - accuracy: 0.8380 - loss: 0.3523 - val_accuracy: 0.6263 - val_loss: 0.8533\n",
      "Epoch 62/100\n",
      "\u001b[1m63/63\u001b[0m \u001b[32m━━━━━━━━━━━━━━━━━━━━\u001b[0m\u001b[37m\u001b[0m \u001b[1m0s\u001b[0m 6ms/step - accuracy: 0.8546 - loss: 0.3439 - val_accuracy: 0.6331 - val_loss: 0.8530\n",
      "Epoch 63/100\n",
      "\u001b[1m63/63\u001b[0m \u001b[32m━━━━━━━━━━━━━━━━━━━━\u001b[0m\u001b[37m\u001b[0m \u001b[1m0s\u001b[0m 7ms/step - accuracy: 0.8647 - loss: 0.3084 - val_accuracy: 0.6327 - val_loss: 0.8612\n",
      "Epoch 64/100\n",
      "\u001b[1m63/63\u001b[0m \u001b[32m━━━━━━━━━━━━━━━━━━━━\u001b[0m\u001b[37m\u001b[0m \u001b[1m1s\u001b[0m 22ms/step - accuracy: 0.8613 - loss: 0.3170 - val_accuracy: 0.6193 - val_loss: 0.8808\n",
      "Epoch 65/100\n",
      "\u001b[1m63/63\u001b[0m \u001b[32m━━━━━━━━━━━━━━━━━━━━\u001b[0m\u001b[37m\u001b[0m \u001b[1m1s\u001b[0m 14ms/step - accuracy: 0.8570 - loss: 0.3224 - val_accuracy: 0.6091 - val_loss: 0.9041\n",
      "Epoch 66/100\n",
      "\u001b[1m63/63\u001b[0m \u001b[32m━━━━━━━━━━━━━━━━━━━━\u001b[0m\u001b[37m\u001b[0m \u001b[1m1s\u001b[0m 20ms/step - accuracy: 0.8508 - loss: 0.3467 - val_accuracy: 0.6437 - val_loss: 0.8889\n",
      "Epoch 67/100\n",
      "\u001b[1m63/63\u001b[0m \u001b[32m━━━━━━━━━━━━━━━━━━━━\u001b[0m\u001b[37m\u001b[0m \u001b[1m1s\u001b[0m 21ms/step - accuracy: 0.8768 - loss: 0.3015 - val_accuracy: 0.6289 - val_loss: 0.8970\n",
      "Epoch 68/100\n",
      "\u001b[1m63/63\u001b[0m \u001b[32m━━━━━━━━━━━━━━━━━━━━\u001b[0m\u001b[37m\u001b[0m \u001b[1m2s\u001b[0m 28ms/step - accuracy: 0.8566 - loss: 0.3112 - val_accuracy: 0.6272 - val_loss: 0.9059\n",
      "Epoch 69/100\n",
      "\u001b[1m63/63\u001b[0m \u001b[32m━━━━━━━━━━━━━━━━━━━━\u001b[0m\u001b[37m\u001b[0m \u001b[1m1s\u001b[0m 18ms/step - accuracy: 0.8863 - loss: 0.2768 - val_accuracy: 0.6176 - val_loss: 0.9295\n",
      "Epoch 70/100\n",
      "\u001b[1m63/63\u001b[0m \u001b[32m━━━━━━━━━━━━━━━━━━━━\u001b[0m\u001b[37m\u001b[0m \u001b[1m1s\u001b[0m 21ms/step - accuracy: 0.8753 - loss: 0.2923 - val_accuracy: 0.6104 - val_loss: 0.9412\n",
      "Epoch 71/100\n",
      "\u001b[1m63/63\u001b[0m \u001b[32m━━━━━━━━━━━━━━━━━━━━\u001b[0m\u001b[37m\u001b[0m \u001b[1m1s\u001b[0m 17ms/step - accuracy: 0.8706 - loss: 0.2925 - val_accuracy: 0.6366 - val_loss: 0.9424\n",
      "Epoch 72/100\n",
      "\u001b[1m63/63\u001b[0m \u001b[32m━━━━━━━━━━━━━━━━━━━━\u001b[0m\u001b[37m\u001b[0m \u001b[1m1s\u001b[0m 16ms/step - accuracy: 0.8864 - loss: 0.2683 - val_accuracy: 0.5918 - val_loss: 0.9975\n",
      "Epoch 73/100\n",
      "\u001b[1m63/63\u001b[0m \u001b[32m━━━━━━━━━━━━━━━━━━━━\u001b[0m\u001b[37m\u001b[0m \u001b[1m1s\u001b[0m 17ms/step - accuracy: 0.8731 - loss: 0.3104 - val_accuracy: 0.6311 - val_loss: 0.9644\n",
      "Epoch 74/100\n",
      "\u001b[1m63/63\u001b[0m \u001b[32m━━━━━━━━━━━━━━━━━━━━\u001b[0m\u001b[37m\u001b[0m \u001b[1m0s\u001b[0m 7ms/step - accuracy: 0.8907 - loss: 0.2758 - val_accuracy: 0.6211 - val_loss: 0.9698\n",
      "Epoch 75/100\n",
      "\u001b[1m63/63\u001b[0m \u001b[32m━━━━━━━━━━━━━━━━━━━━\u001b[0m\u001b[37m\u001b[0m \u001b[1m0s\u001b[0m 6ms/step - accuracy: 0.8851 - loss: 0.2718 - val_accuracy: 0.6448 - val_loss: 0.9916\n",
      "Epoch 76/100\n",
      "\u001b[1m63/63\u001b[0m \u001b[32m━━━━━━━━━━━━━━━━━━━━\u001b[0m\u001b[37m\u001b[0m \u001b[1m0s\u001b[0m 6ms/step - accuracy: 0.8797 - loss: 0.2715 - val_accuracy: 0.6233 - val_loss: 0.9991\n",
      "Epoch 77/100\n",
      "\u001b[1m63/63\u001b[0m \u001b[32m━━━━━━━━━━━━━━━━━━━━\u001b[0m\u001b[37m\u001b[0m \u001b[1m0s\u001b[0m 6ms/step - accuracy: 0.8936 - loss: 0.2817 - val_accuracy: 0.6231 - val_loss: 1.0202\n",
      "Epoch 78/100\n",
      "\u001b[1m63/63\u001b[0m \u001b[32m━━━━━━━━━━━━━━━━━━━━\u001b[0m\u001b[37m\u001b[0m \u001b[1m0s\u001b[0m 6ms/step - accuracy: 0.8980 - loss: 0.2471 - val_accuracy: 0.6233 - val_loss: 1.0211\n",
      "Epoch 79/100\n",
      "\u001b[1m63/63\u001b[0m \u001b[32m━━━━━━━━━━━━━━━━━━━━\u001b[0m\u001b[37m\u001b[0m \u001b[1m1s\u001b[0m 9ms/step - accuracy: 0.9095 - loss: 0.2434 - val_accuracy: 0.6411 - val_loss: 1.0369\n",
      "Epoch 80/100\n",
      "\u001b[1m63/63\u001b[0m \u001b[32m━━━━━━━━━━━━━━━━━━━━\u001b[0m\u001b[37m\u001b[0m \u001b[1m0s\u001b[0m 6ms/step - accuracy: 0.8922 - loss: 0.2523 - val_accuracy: 0.6298 - val_loss: 1.0408\n",
      "Epoch 81/100\n",
      "\u001b[1m63/63\u001b[0m \u001b[32m━━━━━━━━━━━━━━━━━━━━\u001b[0m\u001b[37m\u001b[0m \u001b[1m0s\u001b[0m 6ms/step - accuracy: 0.9005 - loss: 0.2435 - val_accuracy: 0.6254 - val_loss: 1.0376\n",
      "Epoch 82/100\n",
      "\u001b[1m63/63\u001b[0m \u001b[32m━━━━━━━━━━━━━━━━━━━━\u001b[0m\u001b[37m\u001b[0m \u001b[1m0s\u001b[0m 6ms/step - accuracy: 0.8746 - loss: 0.2694 - val_accuracy: 0.6337 - val_loss: 1.0526\n",
      "Epoch 83/100\n",
      "\u001b[1m63/63\u001b[0m \u001b[32m━━━━━━━━━━━━━━━━━━━━\u001b[0m\u001b[37m\u001b[0m \u001b[1m0s\u001b[0m 6ms/step - accuracy: 0.9064 - loss: 0.2346 - val_accuracy: 0.6442 - val_loss: 1.0841\n",
      "Epoch 84/100\n",
      "\u001b[1m63/63\u001b[0m \u001b[32m━━━━━━━━━━━━━━━━━━━━\u001b[0m\u001b[37m\u001b[0m \u001b[1m1s\u001b[0m 11ms/step - accuracy: 0.8939 - loss: 0.2571 - val_accuracy: 0.6042 - val_loss: 1.1232\n",
      "Epoch 85/100\n",
      "\u001b[1m63/63\u001b[0m \u001b[32m━━━━━━━━━━━━━━━━━━━━\u001b[0m\u001b[37m\u001b[0m \u001b[1m1s\u001b[0m 24ms/step - accuracy: 0.8965 - loss: 0.2488 - val_accuracy: 0.6152 - val_loss: 1.1018\n",
      "Epoch 86/100\n",
      "\u001b[1m63/63\u001b[0m \u001b[32m━━━━━━━━━━━━━━━━━━━━\u001b[0m\u001b[37m\u001b[0m \u001b[1m1s\u001b[0m 13ms/step - accuracy: 0.8932 - loss: 0.2309 - val_accuracy: 0.6021 - val_loss: 1.1447\n",
      "Epoch 87/100\n",
      "\u001b[1m63/63\u001b[0m \u001b[32m━━━━━━━━━━━━━━━━━━━━\u001b[0m\u001b[37m\u001b[0m \u001b[1m2s\u001b[0m 25ms/step - accuracy: 0.9066 - loss: 0.2149 - val_accuracy: 0.6286 - val_loss: 1.1086\n",
      "Epoch 88/100\n",
      "\u001b[1m63/63\u001b[0m \u001b[32m━━━━━━━━━━━━━━━━━━━━\u001b[0m\u001b[37m\u001b[0m \u001b[1m1s\u001b[0m 23ms/step - accuracy: 0.9122 - loss: 0.2177 - val_accuracy: 0.6088 - val_loss: 1.1348\n",
      "Epoch 89/100\n",
      "\u001b[1m63/63\u001b[0m \u001b[32m━━━━━━━━━━━━━━━━━━━━\u001b[0m\u001b[37m\u001b[0m \u001b[1m1s\u001b[0m 23ms/step - accuracy: 0.8909 - loss: 0.2313 - val_accuracy: 0.6340 - val_loss: 1.1088\n",
      "Epoch 90/100\n",
      "\u001b[1m63/63\u001b[0m \u001b[32m━━━━━━━━━━━━━━━━━━━━\u001b[0m\u001b[37m\u001b[0m \u001b[1m1s\u001b[0m 20ms/step - accuracy: 0.9169 - loss: 0.2073 - val_accuracy: 0.6396 - val_loss: 1.1738\n",
      "Epoch 91/100\n",
      "\u001b[1m63/63\u001b[0m \u001b[32m━━━━━━━━━━━━━━━━━━━━\u001b[0m\u001b[37m\u001b[0m \u001b[1m1s\u001b[0m 15ms/step - accuracy: 0.9168 - loss: 0.2046 - val_accuracy: 0.6259 - val_loss: 1.1554\n",
      "Epoch 92/100\n",
      "\u001b[1m63/63\u001b[0m \u001b[32m━━━━━━━━━━━━━━━━━━━━\u001b[0m\u001b[37m\u001b[0m \u001b[1m1s\u001b[0m 22ms/step - accuracy: 0.9219 - loss: 0.1868 - val_accuracy: 0.6252 - val_loss: 1.1622\n",
      "Epoch 93/100\n",
      "\u001b[1m63/63\u001b[0m \u001b[32m━━━━━━━━━━━━━━━━━━━━\u001b[0m\u001b[37m\u001b[0m \u001b[1m1s\u001b[0m 10ms/step - accuracy: 0.9077 - loss: 0.2049 - val_accuracy: 0.6264 - val_loss: 1.1906\n",
      "Epoch 94/100\n",
      "\u001b[1m63/63\u001b[0m \u001b[32m━━━━━━━━━━━━━━━━━━━━\u001b[0m\u001b[37m\u001b[0m \u001b[1m0s\u001b[0m 6ms/step - accuracy: 0.9105 - loss: 0.2149 - val_accuracy: 0.6371 - val_loss: 1.1929\n",
      "Epoch 95/100\n",
      "\u001b[1m63/63\u001b[0m \u001b[32m━━━━━━━━━━━━━━━━━━━━\u001b[0m\u001b[37m\u001b[0m \u001b[1m0s\u001b[0m 6ms/step - accuracy: 0.9204 - loss: 0.1880 - val_accuracy: 0.6007 - val_loss: 1.2482\n",
      "Epoch 96/100\n",
      "\u001b[1m63/63\u001b[0m \u001b[32m━━━━━━━━━━━━━━━━━━━━\u001b[0m\u001b[37m\u001b[0m \u001b[1m0s\u001b[0m 6ms/step - accuracy: 0.8978 - loss: 0.2418 - val_accuracy: 0.6278 - val_loss: 1.1943\n",
      "Epoch 97/100\n",
      "\u001b[1m63/63\u001b[0m \u001b[32m━━━━━━━━━━━━━━━━━━━━\u001b[0m\u001b[37m\u001b[0m \u001b[1m1s\u001b[0m 6ms/step - accuracy: 0.9164 - loss: 0.1907 - val_accuracy: 0.6386 - val_loss: 1.2365\n",
      "Epoch 98/100\n",
      "\u001b[1m63/63\u001b[0m \u001b[32m━━━━━━━━━━━━━━━━━━━━\u001b[0m\u001b[37m\u001b[0m \u001b[1m0s\u001b[0m 6ms/step - accuracy: 0.9047 - loss: 0.2198 - val_accuracy: 0.6093 - val_loss: 1.2386\n",
      "Epoch 99/100\n",
      "\u001b[1m63/63\u001b[0m \u001b[32m━━━━━━━━━━━━━━━━━━━━\u001b[0m\u001b[37m\u001b[0m \u001b[1m0s\u001b[0m 7ms/step - accuracy: 0.9024 - loss: 0.2089 - val_accuracy: 0.6346 - val_loss: 1.2130\n",
      "Epoch 100/100\n",
      "\u001b[1m63/63\u001b[0m \u001b[32m━━━━━━━━━━━━━━━━━━━━\u001b[0m\u001b[37m\u001b[0m \u001b[1m1s\u001b[0m 6ms/step - accuracy: 0.9310 - loss: 0.1704 - val_accuracy: 0.6318 - val_loss: 1.2730\n"
     ]
    },
    {
     "data": {
      "text/plain": [
       "<keras.src.callbacks.history.History at 0x18285382270>"
      ]
     },
     "execution_count": 62,
     "metadata": {},
     "output_type": "execute_result"
    }
   ],
   "source": [
    "# Architecture - Sequential / Functional\n",
    "\n",
    "ann = tf.keras.models.Sequential()\n",
    "ann.add(Dense(units=200, activation='relu',kernel_initializer='he_uniform'))\n",
    "ann.add(Dense(units=100, activation='sigmoid'))\n",
    "ann.add(Dense(units=50, activation='relu',kernel_initializer='he_uniform'))\n",
    "ann.add(Dense(units=25, activation='sigmoid'))\n",
    "ann.add(Dense(units=1, activation='sigmoid'))\n",
    "ann.compile(optimizer='adam', loss='binary_crossentropy',metrics=['accuracy'])\n"
   ]
  },
  {
   "cell_type": "code",
   "execution_count": null,
   "id": "e827fda8-f624-4751-afd7-36e227c24087",
   "metadata": {},
   "outputs": [],
   "source": [
    "ann.fit(x_train, y_train, batch_size=32, epochs=100, validation_split=0.2, validation_data=(x_test, y_test) )"
   ]
  },
  {
   "cell_type": "code",
   "execution_count": 64,
   "id": "2543ca52",
   "metadata": {
    "ExecuteTime": {
     "end_time": "2025-01-30T12:21:25.304017Z",
     "start_time": "2025-01-30T12:21:25.304017Z"
    }
   },
   "outputs": [
    {
     "name": "stdout",
     "output_type": "stream",
     "text": [
      "\u001b[1m252/252\u001b[0m \u001b[32m━━━━━━━━━━━━━━━━━━━━\u001b[0m\u001b[37m\u001b[0m \u001b[1m0s\u001b[0m 1ms/step  \n"
     ]
    }
   ],
   "source": [
    "y_pred = ann.predict(x_test)"
   ]
  },
  {
   "cell_type": "code",
   "execution_count": 65,
   "id": "15c7eeb1-cc80-458e-bba8-c8330bf930d5",
   "metadata": {},
   "outputs": [
    {
     "data": {
      "text/plain": [
       "array([[ True],\n",
       "       [False],\n",
       "       [False],\n",
       "       ...,\n",
       "       [False],\n",
       "       [False],\n",
       "       [False]])"
      ]
     },
     "execution_count": 65,
     "metadata": {},
     "output_type": "execute_result"
    }
   ],
   "source": [
    "y_pred = (y_pred>0.5)\n",
    "y_pred"
   ]
  },
  {
   "cell_type": "code",
   "execution_count": 66,
   "id": "f765ebcb",
   "metadata": {
    "ExecuteTime": {
     "end_time": "2025-01-30T12:21:25.311575Z",
     "start_time": "2025-01-30T12:21:25.311575Z"
    }
   },
   "outputs": [],
   "source": [
    "from sklearn.metrics import confusion_matrix, classification_report, accuracy_score"
   ]
  },
  {
   "cell_type": "code",
   "execution_count": 67,
   "id": "e45f7d14",
   "metadata": {
    "ExecuteTime": {
     "end_time": "2025-01-30T12:21:25.311575Z",
     "start_time": "2025-01-30T12:21:25.311575Z"
    }
   },
   "outputs": [
    {
     "name": "stdout",
     "output_type": "stream",
     "text": [
      "[[3734 1341]\n",
      " [1623 1351]]\n"
     ]
    }
   ],
   "source": [
    "print(confusion_matrix(y_test, y_pred))"
   ]
  },
  {
   "cell_type": "code",
   "execution_count": 68,
   "id": "cfc67469",
   "metadata": {
    "ExecuteTime": {
     "end_time": "2025-01-30T12:21:25.323786Z",
     "start_time": "2025-01-30T12:21:25.323786Z"
    }
   },
   "outputs": [
    {
     "name": "stdout",
     "output_type": "stream",
     "text": [
      "              precision    recall  f1-score   support\n",
      "\n",
      "           0       0.70      0.74      0.72      5075\n",
      "           1       0.50      0.45      0.48      2974\n",
      "\n",
      "    accuracy                           0.63      8049\n",
      "   macro avg       0.60      0.60      0.60      8049\n",
      "weighted avg       0.62      0.63      0.63      8049\n",
      "\n"
     ]
    }
   ],
   "source": [
    "print(classification_report(y_test, y_pred))"
   ]
  },
  {
   "cell_type": "code",
   "execution_count": 69,
   "id": "738779e9",
   "metadata": {
    "ExecuteTime": {
     "end_time": "2025-01-30T12:21:25.331110Z",
     "start_time": "2025-01-30T12:21:25.331110Z"
    }
   },
   "outputs": [
    {
     "name": "stdout",
     "output_type": "stream",
     "text": [
      "0.6317554975773388\n"
     ]
    }
   ],
   "source": [
    "print(accuracy_score(y_test, y_pred))"
   ]
  },
  {
   "cell_type": "code",
   "execution_count": null,
   "id": "3948ccd3",
   "metadata": {},
   "outputs": [],
   "source": []
  },
  {
   "cell_type": "code",
   "execution_count": null,
   "id": "c73524e1",
   "metadata": {},
   "outputs": [],
   "source": []
  },
  {
   "cell_type": "code",
   "execution_count": null,
   "id": "1b27d604",
   "metadata": {},
   "outputs": [],
   "source": []
  },
  {
   "cell_type": "code",
   "execution_count": null,
   "id": "625f1a26",
   "metadata": {},
   "outputs": [],
   "source": []
  },
  {
   "cell_type": "code",
   "execution_count": null,
   "id": "5ad41199",
   "metadata": {},
   "outputs": [],
   "source": []
  },
  {
   "cell_type": "code",
   "execution_count": null,
   "id": "8dace5d4",
   "metadata": {},
   "outputs": [],
   "source": []
  },
  {
   "cell_type": "code",
   "execution_count": null,
   "id": "87ab872e",
   "metadata": {},
   "outputs": [],
   "source": []
  },
  {
   "cell_type": "code",
   "execution_count": null,
   "id": "6df47590",
   "metadata": {},
   "outputs": [],
   "source": []
  }
 ],
 "metadata": {
  "kernelspec": {
   "display_name": "Python 3 (ipykernel)",
   "language": "python",
   "name": "python3"
  },
  "language_info": {
   "codemirror_mode": {
    "name": "ipython",
    "version": 3
   },
   "file_extension": ".py",
   "mimetype": "text/x-python",
   "name": "python",
   "nbconvert_exporter": "python",
   "pygments_lexer": "ipython3",
   "version": "3.12.7"
  }
 },
 "nbformat": 4,
 "nbformat_minor": 5
}
